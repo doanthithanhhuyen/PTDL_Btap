{
 "cells": [
  {
   "cell_type": "code",
   "execution_count": 2,
   "id": "9a2df9b1",
   "metadata": {},
   "outputs": [],
   "source": [
    "import pandas as pd\n",
    "import matplotlib.pyplot as plt"
   ]
  },
  {
   "cell_type": "code",
   "execution_count": 3,
   "id": "ba7f1dd1",
   "metadata": {
    "scrolled": false
   },
   "outputs": [
    {
     "data": {
      "text/html": [
       "<div>\n",
       "<style scoped>\n",
       "    .dataframe tbody tr th:only-of-type {\n",
       "        vertical-align: middle;\n",
       "    }\n",
       "\n",
       "    .dataframe tbody tr th {\n",
       "        vertical-align: top;\n",
       "    }\n",
       "\n",
       "    .dataframe thead th {\n",
       "        text-align: right;\n",
       "    }\n",
       "</style>\n",
       "<table border=\"1\" class=\"dataframe\">\n",
       "  <thead>\n",
       "    <tr style=\"text-align: right;\">\n",
       "      <th></th>\n",
       "      <th>Place</th>\n",
       "      <th>ProductId</th>\n",
       "      <th>ProductName</th>\n",
       "      <th>UmId</th>\n",
       "      <th>UmName</th>\n",
       "      <th>Month</th>\n",
       "      <th>Year</th>\n",
       "      <th>Price</th>\n",
       "    </tr>\n",
       "  </thead>\n",
       "  <tbody>\n",
       "    <tr>\n",
       "      <th>0</th>\n",
       "      <td>National Average</td>\n",
       "      <td>52</td>\n",
       "      <td>Rice - Retail</td>\n",
       "      <td>5</td>\n",
       "      <td>KG</td>\n",
       "      <td>5</td>\n",
       "      <td>2013</td>\n",
       "      <td>4.4920</td>\n",
       "    </tr>\n",
       "    <tr>\n",
       "      <th>1</th>\n",
       "      <td>National Average</td>\n",
       "      <td>52</td>\n",
       "      <td>Rice - Retail</td>\n",
       "      <td>5</td>\n",
       "      <td>KG</td>\n",
       "      <td>6</td>\n",
       "      <td>2013</td>\n",
       "      <td>4.5786</td>\n",
       "    </tr>\n",
       "    <tr>\n",
       "      <th>2</th>\n",
       "      <td>National Average</td>\n",
       "      <td>52</td>\n",
       "      <td>Rice - Retail</td>\n",
       "      <td>5</td>\n",
       "      <td>KG</td>\n",
       "      <td>11</td>\n",
       "      <td>2013</td>\n",
       "      <td>4.7865</td>\n",
       "    </tr>\n",
       "    <tr>\n",
       "      <th>3</th>\n",
       "      <td>National Average</td>\n",
       "      <td>52</td>\n",
       "      <td>Rice - Retail</td>\n",
       "      <td>5</td>\n",
       "      <td>KG</td>\n",
       "      <td>12</td>\n",
       "      <td>2013</td>\n",
       "      <td>5.1337</td>\n",
       "    </tr>\n",
       "    <tr>\n",
       "      <th>4</th>\n",
       "      <td>National Average</td>\n",
       "      <td>52</td>\n",
       "      <td>Rice - Retail</td>\n",
       "      <td>5</td>\n",
       "      <td>KG</td>\n",
       "      <td>1</td>\n",
       "      <td>2014</td>\n",
       "      <td>5.5099</td>\n",
       "    </tr>\n",
       "    <tr>\n",
       "      <th>...</th>\n",
       "      <td>...</td>\n",
       "      <td>...</td>\n",
       "      <td>...</td>\n",
       "      <td>...</td>\n",
       "      <td>...</td>\n",
       "      <td>...</td>\n",
       "      <td>...</td>\n",
       "      <td>...</td>\n",
       "    </tr>\n",
       "    <tr>\n",
       "      <th>7376</th>\n",
       "      <td>Izmir</td>\n",
       "      <td>502</td>\n",
       "      <td>Cocoa (powder) - Retail</td>\n",
       "      <td>5</td>\n",
       "      <td>KG</td>\n",
       "      <td>8</td>\n",
       "      <td>2019</td>\n",
       "      <td>47.9040</td>\n",
       "    </tr>\n",
       "    <tr>\n",
       "      <th>7377</th>\n",
       "      <td>Izmir</td>\n",
       "      <td>502</td>\n",
       "      <td>Cocoa (powder) - Retail</td>\n",
       "      <td>5</td>\n",
       "      <td>KG</td>\n",
       "      <td>9</td>\n",
       "      <td>2019</td>\n",
       "      <td>49.1176</td>\n",
       "    </tr>\n",
       "    <tr>\n",
       "      <th>7378</th>\n",
       "      <td>Izmir</td>\n",
       "      <td>502</td>\n",
       "      <td>Cocoa (powder) - Retail</td>\n",
       "      <td>5</td>\n",
       "      <td>KG</td>\n",
       "      <td>10</td>\n",
       "      <td>2019</td>\n",
       "      <td>50.8347</td>\n",
       "    </tr>\n",
       "    <tr>\n",
       "      <th>7379</th>\n",
       "      <td>Izmir</td>\n",
       "      <td>502</td>\n",
       "      <td>Cocoa (powder) - Retail</td>\n",
       "      <td>5</td>\n",
       "      <td>KG</td>\n",
       "      <td>11</td>\n",
       "      <td>2019</td>\n",
       "      <td>51.7985</td>\n",
       "    </tr>\n",
       "    <tr>\n",
       "      <th>7380</th>\n",
       "      <td>Izmir</td>\n",
       "      <td>502</td>\n",
       "      <td>Cocoa (powder) - Retail</td>\n",
       "      <td>5</td>\n",
       "      <td>KG</td>\n",
       "      <td>12</td>\n",
       "      <td>2019</td>\n",
       "      <td>51.6071</td>\n",
       "    </tr>\n",
       "  </tbody>\n",
       "</table>\n",
       "<p>7381 rows × 8 columns</p>\n",
       "</div>"
      ],
      "text/plain": [
       "                 Place  ProductId              ProductName  UmId UmName  \\\n",
       "0     National Average         52            Rice - Retail     5     KG   \n",
       "1     National Average         52            Rice - Retail     5     KG   \n",
       "2     National Average         52            Rice - Retail     5     KG   \n",
       "3     National Average         52            Rice - Retail     5     KG   \n",
       "4     National Average         52            Rice - Retail     5     KG   \n",
       "...                ...        ...                      ...   ...    ...   \n",
       "7376             Izmir        502  Cocoa (powder) - Retail     5     KG   \n",
       "7377             Izmir        502  Cocoa (powder) - Retail     5     KG   \n",
       "7378             Izmir        502  Cocoa (powder) - Retail     5     KG   \n",
       "7379             Izmir        502  Cocoa (powder) - Retail     5     KG   \n",
       "7380             Izmir        502  Cocoa (powder) - Retail     5     KG   \n",
       "\n",
       "      Month  Year    Price  \n",
       "0         5  2013   4.4920  \n",
       "1         6  2013   4.5786  \n",
       "2        11  2013   4.7865  \n",
       "3        12  2013   5.1337  \n",
       "4         1  2014   5.5099  \n",
       "...     ...   ...      ...  \n",
       "7376      8  2019  47.9040  \n",
       "7377      9  2019  49.1176  \n",
       "7378     10  2019  50.8347  \n",
       "7379     11  2019  51.7985  \n",
       "7380     12  2019  51.6071  \n",
       "\n",
       "[7381 rows x 8 columns]"
      ]
     },
     "execution_count": 3,
     "metadata": {},
     "output_type": "execute_result"
    }
   ],
   "source": [
    "d = pd.read_csv(\"FoodPrice_in_Turkey.csv\")\n",
    "d"
   ]
  },
  {
   "cell_type": "markdown",
   "id": "927bcc8b",
   "metadata": {},
   "source": [
    "Yêu cầu 1:\n",
    "Vẽ các biểu đồ cột so sánh giá Milk (powder, infant formula) và Fuel (gas) tháng 12 cuối năm năm 2019 của Ankara, Istanbul, Izmir và National Average.\n",
    "\n"
   ]
  },
  {
   "cell_type": "code",
   "execution_count": 12,
   "id": "93997d11",
   "metadata": {},
   "outputs": [
    {
     "data": {
      "text/html": [
       "<div>\n",
       "<style scoped>\n",
       "    .dataframe tbody tr th:only-of-type {\n",
       "        vertical-align: middle;\n",
       "    }\n",
       "\n",
       "    .dataframe tbody tr th {\n",
       "        vertical-align: top;\n",
       "    }\n",
       "\n",
       "    .dataframe thead th {\n",
       "        text-align: right;\n",
       "    }\n",
       "</style>\n",
       "<table border=\"1\" class=\"dataframe\">\n",
       "  <thead>\n",
       "    <tr style=\"text-align: right;\">\n",
       "      <th></th>\n",
       "      <th>x</th>\n",
       "      <th>y1</th>\n",
       "      <th>y2</th>\n",
       "    </tr>\n",
       "  </thead>\n",
       "  <tbody>\n",
       "    <tr>\n",
       "      <th>0</th>\n",
       "      <td>National Average</td>\n",
       "      <td>124.8845</td>\n",
       "      <td>108.5535</td>\n",
       "    </tr>\n",
       "    <tr>\n",
       "      <th>1</th>\n",
       "      <td>Ankara</td>\n",
       "      <td>128.4533</td>\n",
       "      <td>106.0534</td>\n",
       "    </tr>\n",
       "    <tr>\n",
       "      <th>2</th>\n",
       "      <td>Istanbul</td>\n",
       "      <td>122.7862</td>\n",
       "      <td>112.4568</td>\n",
       "    </tr>\n",
       "    <tr>\n",
       "      <th>3</th>\n",
       "      <td>Izmir</td>\n",
       "      <td>147.1558</td>\n",
       "      <td>109.1172</td>\n",
       "    </tr>\n",
       "  </tbody>\n",
       "</table>\n",
       "</div>"
      ],
      "text/plain": [
       "                  x        y1        y2\n",
       "0  National Average  124.8845  108.5535\n",
       "1            Ankara  128.4533  106.0534\n",
       "2          Istanbul  122.7862  112.4568\n",
       "3             Izmir  147.1558  109.1172"
      ]
     },
     "execution_count": 12,
     "metadata": {},
     "output_type": "execute_result"
    }
   ],
   "source": [
    "# Lấy dữ liệu cần thiết\n",
    "d11 = d[(d['Year'] == 2019) & (d['Month'] == 12) & (d['ProductName'] == 'Milk (powder, infant formula) - Retail')].reset_index()\n",
    "\n",
    "d12 = d[(d['Year'] == 2019) & (d['Month'] == 12) &\n",
    "       (d['ProductName'] == 'Fuel (gas) - Retail')].reset_index()\n",
    "\n",
    "data1 = pd.DataFrame({'x': d11['Place'], 'y1': d11['Price'], 'y2': d12['Price']})\n",
    "data1"
   ]
  },
  {
   "cell_type": "code",
   "execution_count": 13,
   "id": "eab9031f",
   "metadata": {},
   "outputs": [
    {
     "data": {
      "image/png": "[encoded data removed]",
      "text/plain": [
       "<Figure size 432x288 with 1 Axes>"
      ]
     },
     "metadata": {
      "needs_background": "light"
     },
     "output_type": "display_data"
    }
   ],
   "source": [
    "# Vẽ biểu đồ\n",
    "data1.plot(x = 'x', y = ['y1', 'y2'], kind = 'bar')\n",
    "plt.title('Milk and Gas Price in 12/2019', fontsize = 16, color = 'r')\n",
    "plt.xlabel('Place', fontsize = 14)\n",
    "plt.ylabel('Price', fontsize = 14)\n",
    "plt.show()"
   ]
  },
  {
   "cell_type": "markdown",
   "id": "0d81e985",
   "metadata": {},
   "source": [
    "Yêu cầu 2:\n",
    "Vẽ các biểu đồ đường phân tích xu hướng giá gạo (Rice-Retail), giá Fuel (gas) trung bình cả nước (National Average) trong năm 2016, 2018, 2019 tại Thổ Nhĩ Kì.\n",
    "\n",
    "Yêu cầu 3:\n",
    "Vẽ biểu đồ Scatter phân tích mối liên quan giữa giá gạo và giá gas trung bình quốc gia (National Average) tại Thổ Nhĩ Kì các năm 2016, 2018, 2019."
   ]
  },
  {
   "cell_type": "code",
   "execution_count": 18,
   "id": "4966ecb3",
   "metadata": {},
   "outputs": [],
   "source": [
    "d21 = d[(d['Place'] == 'National Average') & (d['Year'] == 2016) & (d['ProductName'] == 'Rice - Retail')]\n",
    "d22 = d[(d['Place'] == 'National Average') & (d['Year'] == 2016) & (d['ProductName'] == 'Fuel (gas) - Retail')]\n",
    "\n",
    "d23 = d[(d['Place'] == 'National Average') & (d['Year'] == 2018) & (d['ProductName'] == 'Rice - Retail')]\n",
    "d24 = d[(d['Place'] == 'National Average') & (d['Year'] == 2018) & (d['ProductName'] == 'Fuel (gas) - Retail')]\n",
    "\n",
    "d25 = d[(d['Place'] == 'National Average') & (d['Year'] == 2019) & (d['ProductName'] == 'Rice - Retail')]\n",
    "d26 = d[(d['Place'] == 'National Average') & (d['Year'] == 2019) & (d['ProductName'] == 'Fuel (gas) - Retail')]\n",
    "\n"
   ]
  },
  {
   "cell_type": "code",
   "execution_count": 19,
   "id": "80f10ebb",
   "metadata": {},
   "outputs": [],
   "source": [
    "d31 = d[(d['Place'] == 'National Average') & (d['Year'] == 2016) & (d['ProductName'] == 'Fuel (gas) - Retail')]\n",
    "d32 = d[(d['Place'] == 'National Average') & (d['Year'] == 2016) & (d['ProductName'] == 'Rice - Retail')]\n",
    "\n",
    "d34 = d[(d['Place'] == 'National Average') & (d['Year'] == 2018) & (d['ProductName'] == 'Rice - Retail')]\n",
    "d33 = d[(d['Place'] == 'National Average') & (d['Year'] == 2018) & (d['ProductName'] == 'Fuel (gas) - Retail')]\n",
    "\n",
    "d36 = d[(d['Place'] == 'National Average') & (d['Year'] == 2019) & (d['ProductName'] == 'Rice - Retail')]\n",
    "d35 = d[(d['Place'] == 'National Average') & (d['Year'] == 2019) & (d['ProductName'] == 'Fuel (gas) - Retail')]\n",
    "\n"
   ]
  },
  {
   "cell_type": "markdown",
   "id": "0bbfd4aa",
   "metadata": {},
   "source": [
    "# Vẽ Biểu Đồ Kết Hợp"
   ]
  },
  {
   "cell_type": "code",
   "execution_count": 21,
   "id": "4c9f7dce",
   "metadata": {},
   "outputs": [
    {
     "data": {
      "image/png": "[encoded data removed]",
      "text/plain": [
       "<Figure size 432x288 with 6 Axes>"
      ]
     },
     "metadata": {
      "needs_background": "light"
     },
     "output_type": "display_data"
    }
   ],
   "source": [
    "fig, ax = plt.subplots(3, 2)\n",
    "ax[0][0].plot(d21['Month'], d21['Price'], marker = '*', label = 'Rice-2016')\n",
    "ax[0][0].plot(d22['Month'], d22['Price'], marker = 's', label = 'Gas-2016')\n",
    "ax[0][0].set_ylabel('Price')\n",
    "ax[0][0].set_xticklabels([])\n",
    "ax[0][0].set_title('2016')\n",
    "\n",
    "ax[1][0].plot(d23['Month'], d23['Price'], marker = '*', label = 'Rice-2018')\n",
    "ax[1][0].plot(d24['Month'], d24['Price'], marker = 's', label = 'Gas-2018')\n",
    "ax[1][0].set_ylabel('Price')\n",
    "ax[1][0].set_xticklabels([])\n",
    "ax[1][0].set_title('2018')\n",
    "\n",
    "ax[2][0].plot(d25['Month'], d25['Price'], marker = '*', label = 'Rice')\n",
    "ax[2][0].plot(d26['Month'], d26['Price'], marker = 's', label = 'Gas')\n",
    "ax[2][0].set_ylabel('Price')\n",
    "ax[2][0].set_xlabel('Month')\n",
    "ax[2][0].legend()\n",
    "ax[2][0].set_title('2019')\n",
    "\n",
    "ax[0][1].scatter(d31['Price'], d32['Price'])\n",
    "ax[0][1].set_title('2016')\n",
    "ax[0][1].set_ylabel('Rice')\n",
    "ax[0][1].set_xticklabels([])\n",
    "\n",
    "ax[1][1].scatter(d33['Month'], d34['Price'])\n",
    "ax[1][1].set_title('2018')\n",
    "ax[1][1].set_xticklabels([])\n",
    "\n",
    "ax[2][1].scatter(d35['Month'], d36['Price'])\n",
    "ax[2][1].set_title('2019')\n",
    "ax[2][1].set_xlabel('Gas')\n",
    "plt.show()"
   ]
  },
  {
   "cell_type": "code",
   "execution_count": null,
   "id": "1eb1636e",
   "metadata": {},
   "outputs": [],
   "source": []
  }
 ],
 "metadata": {
  "kernelspec": {
   "display_name": "Python 3 (ipykernel)",
   "language": "python",
   "name": "python3"
  },
  "language_info": {
   "codemirror_mode": {
    "name": "ipython",
    "version": 3
   },
   "file_extension": ".py",
   "mimetype": "text/x-python",
   "name": "python",
   "nbconvert_exporter": "python",
   "pygments_lexer": "ipython3",
   "version": "3.9.7"
  }
 },
 "nbformat": 4,
 "nbformat_minor": 5
}
