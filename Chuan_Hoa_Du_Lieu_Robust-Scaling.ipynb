{
 "cells": [
  {
   "cell_type": "code",
   "execution_count": 1,
   "id": "f9bca401",
   "metadata": {},
   "outputs": [],
   "source": [
    "import pandas as pd\n",
    "import numpy as np\n",
    "import matplotlib.pyplot as plt\n",
    "import seaborn as sns\n",
    "from sklearn.preprocessing import RobustScaler"
   ]
  },
  {
   "cell_type": "code",
   "execution_count": 2,
   "id": "97b7e8eb",
   "metadata": {},
   "outputs": [],
   "source": [
    "# tạo các cột theo các phần phối khác nhau\n",
    "df = pd.DataFrame({ \n",
    "    'beta': np.random.beta(5, 1, 1000) * 60,        # beta\n",
    "    'exponential': np.random.exponential(10, 1000), # exponential\n",
    "    'normal_p': np.random.normal(10, 2, 1000),      # normal platykurtic\n",
    "    'normal_l': np.random.normal(10, 10, 1000),     # normal leptokurtic\n",
    "})"
   ]
  },
  {
   "cell_type": "code",
   "execution_count": 3,
   "id": "5083086b",
   "metadata": {},
   "outputs": [],
   "source": [
    "# thêm dữ liệu được tạo theo phân phối nhị thức\n",
    "first_half = np.random.normal(20, 3, 500) \n",
    "second_half = np.random.normal(-20, 3, 500) \n",
    "bimodal = np.concatenate([first_half, second_half])\n",
    "\n",
    "df['bimodal'] = bimodal"
   ]
  },
  {
   "cell_type": "code",
   "execution_count": 4,
   "id": "18224b91",
   "metadata": {},
   "outputs": [
    {
     "data": {
      "text/html": [
       "<div>\n",
       "<style scoped>\n",
       "    .dataframe tbody tr th:only-of-type {\n",
       "        vertical-align: middle;\n",
       "    }\n",
       "\n",
       "    .dataframe tbody tr th {\n",
       "        vertical-align: top;\n",
       "    }\n",
       "\n",
       "    .dataframe thead th {\n",
       "        text-align: right;\n",
       "    }\n",
       "</style>\n",
       "<table border=\"1\" class=\"dataframe\">\n",
       "  <thead>\n",
       "    <tr style=\"text-align: right;\">\n",
       "      <th></th>\n",
       "      <th>beta</th>\n",
       "      <th>exponential</th>\n",
       "      <th>normal_p</th>\n",
       "      <th>normal_l</th>\n",
       "      <th>bimodal</th>\n",
       "    </tr>\n",
       "  </thead>\n",
       "  <tbody>\n",
       "    <tr>\n",
       "      <th>0</th>\n",
       "      <td>56.002438</td>\n",
       "      <td>1.869655</td>\n",
       "      <td>12.054433</td>\n",
       "      <td>17.348400</td>\n",
       "      <td>23.499514</td>\n",
       "    </tr>\n",
       "    <tr>\n",
       "      <th>1</th>\n",
       "      <td>47.952051</td>\n",
       "      <td>1.051044</td>\n",
       "      <td>9.095810</td>\n",
       "      <td>29.553916</td>\n",
       "      <td>20.816503</td>\n",
       "    </tr>\n",
       "    <tr>\n",
       "      <th>2</th>\n",
       "      <td>58.735730</td>\n",
       "      <td>16.116328</td>\n",
       "      <td>10.323362</td>\n",
       "      <td>10.074456</td>\n",
       "      <td>17.843810</td>\n",
       "    </tr>\n",
       "    <tr>\n",
       "      <th>3</th>\n",
       "      <td>49.385281</td>\n",
       "      <td>12.859108</td>\n",
       "      <td>8.144563</td>\n",
       "      <td>4.175940</td>\n",
       "      <td>25.965243</td>\n",
       "    </tr>\n",
       "    <tr>\n",
       "      <th>4</th>\n",
       "      <td>35.654416</td>\n",
       "      <td>3.192454</td>\n",
       "      <td>7.408031</td>\n",
       "      <td>-2.233882</td>\n",
       "      <td>22.229407</td>\n",
       "    </tr>\n",
       "  </tbody>\n",
       "</table>\n",
       "</div>"
      ],
      "text/plain": [
       "        beta  exponential   normal_p   normal_l    bimodal\n",
       "0  56.002438     1.869655  12.054433  17.348400  23.499514\n",
       "1  47.952051     1.051044   9.095810  29.553916  20.816503\n",
       "2  58.735730    16.116328  10.323362  10.074456  17.843810\n",
       "3  49.385281    12.859108   8.144563   4.175940  25.965243\n",
       "4  35.654416     3.192454   7.408031  -2.233882  22.229407"
      ]
     },
     "execution_count": 4,
     "metadata": {},
     "output_type": "execute_result"
    }
   ],
   "source": [
    "# hiển thị dữ liệu\n",
    "df.head()"
   ]
  },
  {
   "cell_type": "code",
   "execution_count": 5,
   "id": "21417784",
   "metadata": {},
   "outputs": [
    {
     "data": {
      "text/plain": [
       "<AxesSubplot:ylabel='Density'>"
      ]
     },
     "execution_count": 5,
     "metadata": {},
     "output_type": "execute_result"
    },
    {
     "data": {
      "image/png": "[encoded data removed]",
      "text/plain": [
       "<Figure size 432x288 with 1 Axes>"
      ]
     },
     "metadata": {
      "needs_background": "light"
     },
     "output_type": "display_data"
    }
   ],
   "source": [
    "sns.kdeplot(data=df)"
   ]
  },
  {
   "cell_type": "code",
   "execution_count": 6,
   "id": "307ea5c4",
   "metadata": {},
   "outputs": [
    {
     "data": {
      "text/html": [
       "<div>\n",
       "<style scoped>\n",
       "    .dataframe tbody tr th:only-of-type {\n",
       "        vertical-align: middle;\n",
       "    }\n",
       "\n",
       "    .dataframe tbody tr th {\n",
       "        vertical-align: top;\n",
       "    }\n",
       "\n",
       "    .dataframe thead th {\n",
       "        text-align: right;\n",
       "    }\n",
       "</style>\n",
       "<table border=\"1\" class=\"dataframe\">\n",
       "  <thead>\n",
       "    <tr style=\"text-align: right;\">\n",
       "      <th></th>\n",
       "      <th>beta</th>\n",
       "      <th>exponential</th>\n",
       "      <th>normal_p</th>\n",
       "      <th>normal_l</th>\n",
       "      <th>bimodal</th>\n",
       "    </tr>\n",
       "  </thead>\n",
       "  <tbody>\n",
       "    <tr>\n",
       "      <th>count</th>\n",
       "      <td>1000.000000</td>\n",
       "      <td>1000.000000</td>\n",
       "      <td>1000.000000</td>\n",
       "      <td>1000.000000</td>\n",
       "      <td>1000.000000</td>\n",
       "    </tr>\n",
       "    <tr>\n",
       "      <th>mean</th>\n",
       "      <td>50.036608</td>\n",
       "      <td>10.097706</td>\n",
       "      <td>9.976536</td>\n",
       "      <td>10.115246</td>\n",
       "      <td>0.172514</td>\n",
       "    </tr>\n",
       "    <tr>\n",
       "      <th>std</th>\n",
       "      <td>8.495598</td>\n",
       "      <td>10.506379</td>\n",
       "      <td>1.987738</td>\n",
       "      <td>10.039744</td>\n",
       "      <td>20.195837</td>\n",
       "    </tr>\n",
       "    <tr>\n",
       "      <th>min</th>\n",
       "      <td>16.382231</td>\n",
       "      <td>0.021234</td>\n",
       "      <td>4.085260</td>\n",
       "      <td>-21.279460</td>\n",
       "      <td>-28.597197</td>\n",
       "    </tr>\n",
       "    <tr>\n",
       "      <th>25%</th>\n",
       "      <td>45.441104</td>\n",
       "      <td>2.886250</td>\n",
       "      <td>8.548483</td>\n",
       "      <td>3.195543</td>\n",
       "      <td>-19.867067</td>\n",
       "    </tr>\n",
       "    <tr>\n",
       "      <th>50%</th>\n",
       "      <td>52.359621</td>\n",
       "      <td>6.782441</td>\n",
       "      <td>10.003907</td>\n",
       "      <td>10.038962</td>\n",
       "      <td>0.760937</td>\n",
       "    </tr>\n",
       "    <tr>\n",
       "      <th>75%</th>\n",
       "      <td>56.720147</td>\n",
       "      <td>13.970791</td>\n",
       "      <td>11.367944</td>\n",
       "      <td>16.891418</td>\n",
       "      <td>20.119489</td>\n",
       "    </tr>\n",
       "    <tr>\n",
       "      <th>max</th>\n",
       "      <td>59.992257</td>\n",
       "      <td>117.234842</td>\n",
       "      <td>15.530059</td>\n",
       "      <td>44.357766</td>\n",
       "      <td>29.214054</td>\n",
       "    </tr>\n",
       "  </tbody>\n",
       "</table>\n",
       "</div>"
      ],
      "text/plain": [
       "              beta  exponential     normal_p     normal_l      bimodal\n",
       "count  1000.000000  1000.000000  1000.000000  1000.000000  1000.000000\n",
       "mean     50.036608    10.097706     9.976536    10.115246     0.172514\n",
       "std       8.495598    10.506379     1.987738    10.039744    20.195837\n",
       "min      16.382231     0.021234     4.085260   -21.279460   -28.597197\n",
       "25%      45.441104     2.886250     8.548483     3.195543   -19.867067\n",
       "50%      52.359621     6.782441    10.003907    10.038962     0.760937\n",
       "75%      56.720147    13.970791    11.367944    16.891418    20.119489\n",
       "max      59.992257   117.234842    15.530059    44.357766    29.214054"
      ]
     },
     "execution_count": 6,
     "metadata": {},
     "output_type": "execute_result"
    }
   ],
   "source": [
    "df.describe()"
   ]
  },
  {
   "cell_type": "code",
   "execution_count": 7,
   "id": "c1c82649",
   "metadata": {},
   "outputs": [
    {
     "data": {
      "text/plain": [
       "<AxesSubplot:ylabel='Density'>"
      ]
     },
     "execution_count": 7,
     "metadata": {},
     "output_type": "execute_result"
    },
    {
     "data": {
      "image/png": "[encoded data removed]",
      "text/plain": [
       "<Figure size 432x288 with 1 Axes>"
      ]
     },
     "metadata": {
      "needs_background": "light"
     },
     "output_type": "display_data"
    }
   ],
   "source": [
    "normal_big = np.random.normal(1000000, 10000, (1000,1))  # normal distribution of large values\n",
    "df['normal_big'] = normal_big\n",
    "sns.kdeplot(data=df)"
   ]
  },
  {
   "cell_type": "code",
   "execution_count": 8,
   "id": "0d086267",
   "metadata": {},
   "outputs": [
    {
     "data": {
      "text/plain": [
       "<AxesSubplot:>"
      ]
     },
     "execution_count": 8,
     "metadata": {},
     "output_type": "execute_result"
    },
    {
     "data": {
      "image/png": "[encoded data removed]",
      "text/plain": [
       "<Figure size 432x288 with 1 Axes>"
      ]
     },
     "metadata": {
      "needs_background": "light"
     },
     "output_type": "display_data"
    }
   ],
   "source": [
    "# trực quan hóa bằng biểu đồ box plot\n",
    "df.boxplot()"
   ]
  },
  {
   "cell_type": "code",
   "execution_count": 9,
   "id": "617ce888",
   "metadata": {},
   "outputs": [],
   "source": [
    "# Khai báo đối tượng MinMaxScaler\n",
    "scaler = RobustScaler()"
   ]
  },
  {
   "cell_type": "code",
   "execution_count": 10,
   "id": "61dd3350",
   "metadata": {},
   "outputs": [],
   "source": [
    "# Chuẩn hóa dữ liệu trong df với StandardScaler\n",
    "df_s = scaler.fit_transform(df)\n",
    "\n",
    "# lấy danh sáchc cột\n",
    "col_names = list(df.columns)\n",
    "\n",
    "# chuyển về DataFrame, gán các cột của df cho dữ liệu đã được chuẩn hóa\n",
    "df_s = pd.DataFrame(df_s, columns=col_names)"
   ]
  },
  {
   "cell_type": "code",
   "execution_count": 11,
   "id": "3ac53636",
   "metadata": {},
   "outputs": [
    {
     "data": {
      "text/html": [
       "<div>\n",
       "<style scoped>\n",
       "    .dataframe tbody tr th:only-of-type {\n",
       "        vertical-align: middle;\n",
       "    }\n",
       "\n",
       "    .dataframe tbody tr th {\n",
       "        vertical-align: top;\n",
       "    }\n",
       "\n",
       "    .dataframe thead th {\n",
       "        text-align: right;\n",
       "    }\n",
       "</style>\n",
       "<table border=\"1\" class=\"dataframe\">\n",
       "  <thead>\n",
       "    <tr style=\"text-align: right;\">\n",
       "      <th></th>\n",
       "      <th>beta</th>\n",
       "      <th>exponential</th>\n",
       "      <th>normal_p</th>\n",
       "      <th>normal_l</th>\n",
       "      <th>bimodal</th>\n",
       "      <th>normal_big</th>\n",
       "    </tr>\n",
       "  </thead>\n",
       "  <tbody>\n",
       "    <tr>\n",
       "      <th>0</th>\n",
       "      <td>0.322972</td>\n",
       "      <td>-0.443211</td>\n",
       "      <td>0.727276</td>\n",
       "      <td>0.533696</td>\n",
       "      <td>0.568656</td>\n",
       "      <td>-0.390677</td>\n",
       "    </tr>\n",
       "    <tr>\n",
       "      <th>1</th>\n",
       "      <td>-0.390775</td>\n",
       "      <td>-0.517062</td>\n",
       "      <td>-0.322082</td>\n",
       "      <td>1.424878</td>\n",
       "      <td>0.501558</td>\n",
       "      <td>0.133582</td>\n",
       "    </tr>\n",
       "    <tr>\n",
       "      <th>2</th>\n",
       "      <td>0.565306</td>\n",
       "      <td>0.842063</td>\n",
       "      <td>0.113304</td>\n",
       "      <td>0.002592</td>\n",
       "      <td>0.427215</td>\n",
       "      <td>0.646037</td>\n",
       "    </tr>\n",
       "    <tr>\n",
       "      <th>3</th>\n",
       "      <td>-0.263705</td>\n",
       "      <td>0.548211</td>\n",
       "      <td>-0.659468</td>\n",
       "      <td>-0.428087</td>\n",
       "      <td>0.630320</td>\n",
       "      <td>-0.090744</td>\n",
       "    </tr>\n",
       "    <tr>\n",
       "      <th>4</th>\n",
       "      <td>-1.481084</td>\n",
       "      <td>-0.323873</td>\n",
       "      <td>-0.920699</td>\n",
       "      <td>-0.896098</td>\n",
       "      <td>0.536892</td>\n",
       "      <td>1.285361</td>\n",
       "    </tr>\n",
       "  </tbody>\n",
       "</table>\n",
       "</div>"
      ],
      "text/plain": [
       "       beta  exponential  normal_p  normal_l   bimodal  normal_big\n",
       "0  0.322972    -0.443211  0.727276  0.533696  0.568656   -0.390677\n",
       "1 -0.390775    -0.517062 -0.322082  1.424878  0.501558    0.133582\n",
       "2  0.565306     0.842063  0.113304  0.002592  0.427215    0.646037\n",
       "3 -0.263705     0.548211 -0.659468 -0.428087  0.630320   -0.090744\n",
       "4 -1.481084    -0.323873 -0.920699 -0.896098  0.536892    1.285361"
      ]
     },
     "execution_count": 11,
     "metadata": {},
     "output_type": "execute_result"
    }
   ],
   "source": [
    "df_s.head()"
   ]
  },
  {
   "cell_type": "code",
   "execution_count": 12,
   "id": "3666fed4",
   "metadata": {},
   "outputs": [
    {
     "data": {
      "text/plain": [
       "<AxesSubplot:ylabel='Density'>"
      ]
     },
     "execution_count": 12,
     "metadata": {},
     "output_type": "execute_result"
    },
    {
     "data": {
      "image/png": "[encoded data removed]",
      "text/plain": [
       "<Figure size 432x288 with 1 Axes>"
      ]
     },
     "metadata": {
      "needs_background": "light"
     },
     "output_type": "display_data"
    }
   ],
   "source": [
    "# biểu diễn dữ liệu đã được chuẩn hóa\n",
    "sns.kdeplot(data=df_s)"
   ]
  },
  {
   "cell_type": "code",
   "execution_count": 13,
   "id": "220fa48d",
   "metadata": {},
   "outputs": [
    {
     "data": {
      "text/html": [
       "<div>\n",
       "<style scoped>\n",
       "    .dataframe tbody tr th:only-of-type {\n",
       "        vertical-align: middle;\n",
       "    }\n",
       "\n",
       "    .dataframe tbody tr th {\n",
       "        vertical-align: top;\n",
       "    }\n",
       "\n",
       "    .dataframe thead th {\n",
       "        text-align: right;\n",
       "    }\n",
       "</style>\n",
       "<table border=\"1\" class=\"dataframe\">\n",
       "  <thead>\n",
       "    <tr style=\"text-align: right;\">\n",
       "      <th></th>\n",
       "      <th>beta</th>\n",
       "      <th>exponential</th>\n",
       "      <th>normal_p</th>\n",
       "      <th>normal_l</th>\n",
       "      <th>bimodal</th>\n",
       "      <th>normal_big</th>\n",
       "    </tr>\n",
       "  </thead>\n",
       "  <tbody>\n",
       "    <tr>\n",
       "      <th>count</th>\n",
       "      <td>1000.000000</td>\n",
       "      <td>1000.000000</td>\n",
       "      <td>1000.000000</td>\n",
       "      <td>1000.000000</td>\n",
       "      <td>1000.000000</td>\n",
       "      <td>1000.000000</td>\n",
       "    </tr>\n",
       "    <tr>\n",
       "      <th>mean</th>\n",
       "      <td>-0.205958</td>\n",
       "      <td>0.299089</td>\n",
       "      <td>-0.009708</td>\n",
       "      <td>0.005570</td>\n",
       "      <td>-0.014716</td>\n",
       "      <td>0.002798</td>\n",
       "    </tr>\n",
       "    <tr>\n",
       "      <th>std</th>\n",
       "      <td>0.753220</td>\n",
       "      <td>0.947841</td>\n",
       "      <td>0.705006</td>\n",
       "      <td>0.733049</td>\n",
       "      <td>0.505066</td>\n",
       "      <td>0.757819</td>\n",
       "    </tr>\n",
       "    <tr>\n",
       "      <th>min</th>\n",
       "      <td>-3.189756</td>\n",
       "      <td>-0.609967</td>\n",
       "      <td>-2.099212</td>\n",
       "      <td>-2.286705</td>\n",
       "      <td>-0.734200</td>\n",
       "      <td>-2.215640</td>\n",
       "    </tr>\n",
       "    <tr>\n",
       "      <th>25%</th>\n",
       "      <td>-0.613396</td>\n",
       "      <td>-0.351498</td>\n",
       "      <td>-0.516206</td>\n",
       "      <td>-0.499670</td>\n",
       "      <td>-0.515873</td>\n",
       "      <td>-0.504498</td>\n",
       "    </tr>\n",
       "    <tr>\n",
       "      <th>50%</th>\n",
       "      <td>0.000000</td>\n",
       "      <td>0.000000</td>\n",
       "      <td>0.000000</td>\n",
       "      <td>0.000000</td>\n",
       "      <td>0.000000</td>\n",
       "      <td>0.000000</td>\n",
       "    </tr>\n",
       "    <tr>\n",
       "      <th>75%</th>\n",
       "      <td>0.386604</td>\n",
       "      <td>0.648502</td>\n",
       "      <td>0.483794</td>\n",
       "      <td>0.500330</td>\n",
       "      <td>0.484127</td>\n",
       "      <td>0.495502</td>\n",
       "    </tr>\n",
       "    <tr>\n",
       "      <th>max</th>\n",
       "      <td>0.676709</td>\n",
       "      <td>9.964544</td>\n",
       "      <td>1.960003</td>\n",
       "      <td>2.505777</td>\n",
       "      <td>0.711567</td>\n",
       "      <td>2.400183</td>\n",
       "    </tr>\n",
       "  </tbody>\n",
       "</table>\n",
       "</div>"
      ],
      "text/plain": [
       "              beta  exponential     normal_p     normal_l      bimodal  \\\n",
       "count  1000.000000  1000.000000  1000.000000  1000.000000  1000.000000   \n",
       "mean     -0.205958     0.299089    -0.009708     0.005570    -0.014716   \n",
       "std       0.753220     0.947841     0.705006     0.733049     0.505066   \n",
       "min      -3.189756    -0.609967    -2.099212    -2.286705    -0.734200   \n",
       "25%      -0.613396    -0.351498    -0.516206    -0.499670    -0.515873   \n",
       "50%       0.000000     0.000000     0.000000     0.000000     0.000000   \n",
       "75%       0.386604     0.648502     0.483794     0.500330     0.484127   \n",
       "max       0.676709     9.964544     1.960003     2.505777     0.711567   \n",
       "\n",
       "        normal_big  \n",
       "count  1000.000000  \n",
       "mean      0.002798  \n",
       "std       0.757819  \n",
       "min      -2.215640  \n",
       "25%      -0.504498  \n",
       "50%       0.000000  \n",
       "75%       0.495502  \n",
       "max       2.400183  "
      ]
     },
     "execution_count": 13,
     "metadata": {},
     "output_type": "execute_result"
    }
   ],
   "source": [
    "# thống kê về dữ liệu được sinh ra\n",
    "df_s.describe()"
   ]
  },
  {
   "cell_type": "code",
   "execution_count": 14,
   "id": "e623681a",
   "metadata": {},
   "outputs": [
    {
     "data": {
      "text/plain": [
       "<AxesSubplot:>"
      ]
     },
     "execution_count": 14,
     "metadata": {},
     "output_type": "execute_result"
    },
    {
     "data": {
      "image/png": "[encoded data removed]",
      "text/plain": [
       "<Figure size 432x288 with 1 Axes>"
      ]
     },
     "metadata": {
      "needs_background": "light"
     },
     "output_type": "display_data"
    }
   ],
   "source": [
    "df_s.boxplot()"
   ]
  },
  {
   "cell_type": "code",
   "execution_count": 15,
   "id": "03428a94",
   "metadata": {},
   "outputs": [
    {
     "data": {
      "text/plain": [
       "[-3.189755618235165,\n",
       " -0.6099671849022065,\n",
       " -2.0992120828066185,\n",
       " -2.2867048274480917,\n",
       " -0.7342001167594268,\n",
       " -2.2156398938653448]"
      ]
     },
     "execution_count": 15,
     "metadata": {},
     "output_type": "execute_result"
    }
   ],
   "source": [
    "# lấy các giá trị min ở mỗi cột\n",
    "mins = [df_s[col].min() for col in df_s.columns]\n",
    "mins"
   ]
  },
  {
   "cell_type": "code",
   "execution_count": 16,
   "id": "19bca7d4",
   "metadata": {},
   "outputs": [
    {
     "data": {
      "text/plain": [
       "[0.6767094926392349,\n",
       " 9.964543886428803,\n",
       " 1.9600031838001966,\n",
       " 2.5057767424992567,\n",
       " 0.7115670862239089,\n",
       " 2.400182656499413]"
      ]
     },
     "execution_count": 16,
     "metadata": {},
     "output_type": "execute_result"
    }
   ],
   "source": [
    "# lấy giá trị max ở mỗi cột\n",
    "maxs = [df_s[col].max() for col in df_s.columns]\n",
    "maxs"
   ]
  },
  {
   "cell_type": "code",
   "execution_count": 17,
   "id": "c92de571",
   "metadata": {},
   "outputs": [
    {
     "data": {
      "text/plain": [
       "array([5.23596211e+01, 6.78244103e+00, 1.00039067e+01, 1.00389619e+01,\n",
       "       7.60936625e-01, 1.00001194e+06])"
      ]
     },
     "execution_count": 17,
     "metadata": {},
     "output_type": "execute_result"
    }
   ],
   "source": [
    "# giá trị trung vị của các đặc trưng của tập dữ liệu gốc\n",
    "scaler.center_"
   ]
  },
  {
   "cell_type": "code",
   "execution_count": null,
   "id": "99063939",
   "metadata": {},
   "outputs": [],
   "source": []
  }
 ],
 "metadata": {
  "kernelspec": {
   "display_name": "Python 3 (ipykernel)",
   "language": "python",
   "name": "python3"
  },
  "language_info": {
   "codemirror_mode": {
    "name": "ipython",
    "version": 3
   },
   "file_extension": ".py",
   "mimetype": "text/x-python",
   "name": "python",
   "nbconvert_exporter": "python",
   "pygments_lexer": "ipython3",
   "version": "3.9.7"
  }
 },
 "nbformat": 4,
 "nbformat_minor": 5
}
