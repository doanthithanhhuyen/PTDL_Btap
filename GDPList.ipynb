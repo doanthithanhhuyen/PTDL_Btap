{
 "cells": [
  {
   "cell_type": "code",
   "execution_count": 8,
   "id": "6e208d03",
   "metadata": {},
   "outputs": [
    {
     "data": {
      "text/html": [
       "<div>\n",
       "<style scoped>\n",
       "    .dataframe tbody tr th:only-of-type {\n",
       "        vertical-align: middle;\n",
       "    }\n",
       "\n",
       "    .dataframe tbody tr th {\n",
       "        vertical-align: top;\n",
       "    }\n",
       "\n",
       "    .dataframe thead th {\n",
       "        text-align: right;\n",
       "    }\n",
       "</style>\n",
       "<table border=\"1\" class=\"dataframe\">\n",
       "  <thead>\n",
       "    <tr style=\"text-align: right;\">\n",
       "      <th></th>\n",
       "      <th>Country</th>\n",
       "      <th>Continent</th>\n",
       "      <th>GDP (millions of US$)</th>\n",
       "    </tr>\n",
       "  </thead>\n",
       "  <tbody>\n",
       "    <tr>\n",
       "      <th>0</th>\n",
       "      <td>Afghanistan</td>\n",
       "      <td>Asia</td>\n",
       "      <td>18181</td>\n",
       "    </tr>\n",
       "    <tr>\n",
       "      <th>1</th>\n",
       "      <td>Albania</td>\n",
       "      <td>Europe</td>\n",
       "      <td>12847</td>\n",
       "    </tr>\n",
       "    <tr>\n",
       "      <th>2</th>\n",
       "      <td>Algeria</td>\n",
       "      <td>Africa</td>\n",
       "      <td>190709</td>\n",
       "    </tr>\n",
       "    <tr>\n",
       "      <th>3</th>\n",
       "      <td>Angola</td>\n",
       "      <td>Africa</td>\n",
       "      <td>100948</td>\n",
       "    </tr>\n",
       "    <tr>\n",
       "      <th>4</th>\n",
       "      <td>Argentina</td>\n",
       "      <td>South America</td>\n",
       "      <td>447644</td>\n",
       "    </tr>\n",
       "  </tbody>\n",
       "</table>\n",
       "</div>"
      ],
      "text/plain": [
       "        Country      Continent  GDP (millions of US$)\n",
       "0   Afghanistan           Asia                  18181\n",
       "1       Albania         Europe                  12847\n",
       "2       Algeria         Africa                 190709\n",
       "3        Angola         Africa                 100948\n",
       "4     Argentina  South America                 447644"
      ]
     },
     "execution_count": 8,
     "metadata": {},
     "output_type": "execute_result"
    }
   ],
   "source": [
    "import pandas as pd\n",
    "import numpy as np\n",
    "import matplotlib.pyplot as plt\n",
    "\n",
    "data = pd.read_csv('GDPlist.csv', encoding =\"ISO-8859-1\")\n",
    "data.head()"
   ]
  },
  {
   "cell_type": "code",
   "execution_count": 2,
   "id": "d85a00de",
   "metadata": {},
   "outputs": [
    {
     "name": "stdout",
     "output_type": "stream",
     "text": [
      "<class 'pandas.core.frame.DataFrame'>\n",
      "RangeIndex: 125 entries, 0 to 124\n",
      "Data columns (total 3 columns):\n",
      " #   Column                 Non-Null Count  Dtype \n",
      "---  ------                 --------------  ----- \n",
      " 0   Country                125 non-null    object\n",
      " 1   Continent              125 non-null    object\n",
      " 2   GDP (millions of US$)  125 non-null    int64 \n",
      "dtypes: int64(1), object(2)\n",
      "memory usage: 2.0+ KB\n"
     ]
    }
   ],
   "source": [
    "data.info()"
   ]
  },
  {
   "cell_type": "code",
   "execution_count": 5,
   "id": "19108072",
   "metadata": {},
   "outputs": [
    {
     "name": "stdout",
     "output_type": "stream",
     "text": [
      "Số dòng:  125\n",
      "số cột:  3\n"
     ]
    }
   ],
   "source": [
    "#Bộ dữ liệu chứa bn dòng bn cột\n",
    "print(\"Số dòng: \", data.shape[0])\n",
    "print(\"số cột: \", data.shape[1])"
   ]
  },
  {
   "cell_type": "code",
   "execution_count": 6,
   "id": "4f5c2dc6",
   "metadata": {},
   "outputs": [],
   "source": [
    "#Bộ dữ liệu có 3 thuộc tính:\n",
    "#Country: thang đo định danh\n",
    "#Continent: thang đo định danh\n",
    "#GDP : thang đo tỉ lệ"
   ]
  },
  {
   "cell_type": "code",
   "execution_count": 13,
   "id": "008d8e99",
   "metadata": {},
   "outputs": [
    {
     "name": "stdout",
     "output_type": "stream",
     "text": [
      "GDP trung bình của các quốc gia:  GDP (millions of US$)    555427.784\n",
      "dtype: float64\n"
     ]
    },
    {
     "name": "stderr",
     "output_type": "stream",
     "text": [
      "C:\\Users\\HUYEND~1.611\\AppData\\Local\\Temp/ipykernel_7416/78269851.py:2: FutureWarning: Dropping of nuisance columns in DataFrame reductions (with 'numeric_only=None') is deprecated; in a future version this will raise TypeError.  Select only valid columns before calling the reduction.\n",
      "  print(\"GDP trung bình của các quốc gia: \", data.mean())\n"
     ]
    },
    {
     "data": {
      "text/plain": [
       "Text(0, 0.5, 'Số lượng quốc gia')"
      ]
     },
     "execution_count": 13,
     "metadata": {},
     "output_type": "execute_result"
    },
    {
     "data": {
      "image/png": "[encoded data removed]",
      "text/plain": [
       "<Figure size 432x288 with 1 Axes>"
      ]
     },
     "metadata": {
      "needs_background": "light"
     },
     "output_type": "display_data"
    }
   ],
   "source": [
    "#GDP của các quốc gia có đồng đều không\n",
    "print(\"GDP trung bình của các quốc gia: \", data.mean())\n",
    "plt.hist(data['GDP (millions of US$)'], bins = 200)\n",
    "plt.title(\"GDP của các quốc gia\")\n",
    "plt.xlabel(\"GDP\")\n",
    "plt.ylabel(\"Số lượng quốc gia\")"
   ]
  },
  {
   "cell_type": "code",
   "execution_count": 14,
   "id": "ca65635c",
   "metadata": {},
   "outputs": [
    {
     "name": "stdout",
     "output_type": "stream",
     "text": [
      "Số lượng các quốc gia: 125\n"
     ]
    }
   ],
   "source": [
    "#Bộ dữ liệu có bn quốc gia\n",
    "country = data.Country.unique()\n",
    "print(\"Số lượng các quốc gia: \"+str(country.size))"
   ]
  },
  {
   "cell_type": "code",
   "execution_count": 23,
   "id": "da28060e",
   "metadata": {},
   "outputs": [
    {
     "data": {
      "text/plain": [
       "Continent\n",
       "Africa            1820811\n",
       "Asia             24425891\n",
       "Europe           19139380\n",
       "North America    18238447\n",
       "Oceania           1662727\n",
       "Name: GDP (millions of US$), dtype: int64"
      ]
     },
     "execution_count": 23,
     "metadata": {},
     "output_type": "execute_result"
    }
   ],
   "source": [
    "#Tổng GDP của mỗi châu lục\n",
    "quantity_contry = data.groupby(['Continent'])['GDP (millions of US$)'].sum()\n",
    "quantity_contry.head()"
   ]
  },
  {
   "cell_type": "code",
   "execution_count": 24,
   "id": "75184c6e",
   "metadata": {},
   "outputs": [],
   "source": [
    "#Mỗi châu lục có bao nhiêu quốc gia nằm trong bảng dữ liệu\n",
    "\n"
   ]
  },
  {
   "cell_type": "code",
   "execution_count": 25,
   "id": "c8f5f13d",
   "metadata": {},
   "outputs": [
    {
     "data": {
      "text/plain": [
       "Country          Continent    \n",
       " United States   North America    15094025\n",
       " China           Asia              7298147\n",
       " Japan           Asia              5869471\n",
       " Germany         Europe            3577031\n",
       " France          Europe            2776324\n",
       " Brazil          South America     2492908\n",
       " United Kingdom  Europe            2417570\n",
       " Italy           Europe            2198730\n",
       " Russia          Asia              1850401\n",
       " Canada          North America     1736869\n",
       "Name: GDP (millions of US$), dtype: int64"
      ]
     },
     "execution_count": 25,
     "metadata": {},
     "output_type": "execute_result"
    }
   ],
   "source": [
    "#Top 10 quốc gia có GDP cao nhất\n",
    "quantity_contry = data.groupby(['Country','Continent'])['GDP (millions of US$)'].sum().sort_values(ascending= False)\n",
    "quantity_contry.head(10)"
   ]
  },
  {
   "cell_type": "code",
   "execution_count": null,
   "id": "9df6722a",
   "metadata": {},
   "outputs": [],
   "source": []
  }
 ],
 "metadata": {
  "kernelspec": {
   "display_name": "Python 3 (ipykernel)",
   "language": "python",
   "name": "python3"
  },
  "language_info": {
   "codemirror_mode": {
    "name": "ipython",
    "version": 3
   },
   "file_extension": ".py",
   "mimetype": "text/x-python",
   "name": "python",
   "nbconvert_exporter": "python",
   "pygments_lexer": "ipython3",
   "version": "3.9.7"
  }
 },
 "nbformat": 4,
 "nbformat_minor": 5
}
