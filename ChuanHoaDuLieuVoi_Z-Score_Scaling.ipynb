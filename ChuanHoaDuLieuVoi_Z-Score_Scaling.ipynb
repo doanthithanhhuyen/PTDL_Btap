{
 "cells": [
  {
   "cell_type": "code",
   "execution_count": 1,
   "id": "c5a444ce",
   "metadata": {},
   "outputs": [],
   "source": [
    "import pandas as pd\n",
    "import numpy as np\n",
    "import matplotlib.pyplot as plt\n",
    "import seaborn as sns\n",
    "from sklearn.preprocessing import StandardScaler"
   ]
  },
  {
   "cell_type": "code",
   "execution_count": 3,
   "id": "7f2cd322",
   "metadata": {},
   "outputs": [
    {
     "data": {
      "text/html": [
       "<div>\n",
       "<style scoped>\n",
       "    .dataframe tbody tr th:only-of-type {\n",
       "        vertical-align: middle;\n",
       "    }\n",
       "\n",
       "    .dataframe tbody tr th {\n",
       "        vertical-align: top;\n",
       "    }\n",
       "\n",
       "    .dataframe thead th {\n",
       "        text-align: right;\n",
       "    }\n",
       "</style>\n",
       "<table border=\"1\" class=\"dataframe\">\n",
       "  <thead>\n",
       "    <tr style=\"text-align: right;\">\n",
       "      <th></th>\n",
       "      <th>beta</th>\n",
       "      <th>exponential</th>\n",
       "      <th>normal_p</th>\n",
       "      <th>normal_l</th>\n",
       "    </tr>\n",
       "  </thead>\n",
       "  <tbody>\n",
       "    <tr>\n",
       "      <th>0</th>\n",
       "      <td>55.976682</td>\n",
       "      <td>15.264253</td>\n",
       "      <td>8.738476</td>\n",
       "      <td>13.484907</td>\n",
       "    </tr>\n",
       "    <tr>\n",
       "      <th>1</th>\n",
       "      <td>51.707807</td>\n",
       "      <td>2.160549</td>\n",
       "      <td>9.111653</td>\n",
       "      <td>10.446849</td>\n",
       "    </tr>\n",
       "    <tr>\n",
       "      <th>2</th>\n",
       "      <td>57.449843</td>\n",
       "      <td>16.393445</td>\n",
       "      <td>12.543135</td>\n",
       "      <td>-6.684506</td>\n",
       "    </tr>\n",
       "    <tr>\n",
       "      <th>3</th>\n",
       "      <td>42.341310</td>\n",
       "      <td>6.192697</td>\n",
       "      <td>10.518667</td>\n",
       "      <td>33.118086</td>\n",
       "    </tr>\n",
       "    <tr>\n",
       "      <th>4</th>\n",
       "      <td>35.350635</td>\n",
       "      <td>0.678486</td>\n",
       "      <td>10.325614</td>\n",
       "      <td>1.861609</td>\n",
       "    </tr>\n",
       "    <tr>\n",
       "      <th>...</th>\n",
       "      <td>...</td>\n",
       "      <td>...</td>\n",
       "      <td>...</td>\n",
       "      <td>...</td>\n",
       "    </tr>\n",
       "    <tr>\n",
       "      <th>995</th>\n",
       "      <td>43.135103</td>\n",
       "      <td>6.967081</td>\n",
       "      <td>8.332866</td>\n",
       "      <td>5.587466</td>\n",
       "    </tr>\n",
       "    <tr>\n",
       "      <th>996</th>\n",
       "      <td>45.797536</td>\n",
       "      <td>14.634195</td>\n",
       "      <td>8.392341</td>\n",
       "      <td>12.497871</td>\n",
       "    </tr>\n",
       "    <tr>\n",
       "      <th>997</th>\n",
       "      <td>45.635295</td>\n",
       "      <td>10.355756</td>\n",
       "      <td>7.557793</td>\n",
       "      <td>-0.559059</td>\n",
       "    </tr>\n",
       "    <tr>\n",
       "      <th>998</th>\n",
       "      <td>55.951771</td>\n",
       "      <td>14.932059</td>\n",
       "      <td>8.129541</td>\n",
       "      <td>1.513088</td>\n",
       "    </tr>\n",
       "    <tr>\n",
       "      <th>999</th>\n",
       "      <td>49.832790</td>\n",
       "      <td>12.650286</td>\n",
       "      <td>11.370767</td>\n",
       "      <td>-1.187895</td>\n",
       "    </tr>\n",
       "  </tbody>\n",
       "</table>\n",
       "<p>1000 rows × 4 columns</p>\n",
       "</div>"
      ],
      "text/plain": [
       "          beta  exponential   normal_p   normal_l\n",
       "0    55.976682    15.264253   8.738476  13.484907\n",
       "1    51.707807     2.160549   9.111653  10.446849\n",
       "2    57.449843    16.393445  12.543135  -6.684506\n",
       "3    42.341310     6.192697  10.518667  33.118086\n",
       "4    35.350635     0.678486  10.325614   1.861609\n",
       "..         ...          ...        ...        ...\n",
       "995  43.135103     6.967081   8.332866   5.587466\n",
       "996  45.797536    14.634195   8.392341  12.497871\n",
       "997  45.635295    10.355756   7.557793  -0.559059\n",
       "998  55.951771    14.932059   8.129541   1.513088\n",
       "999  49.832790    12.650286  11.370767  -1.187895\n",
       "\n",
       "[1000 rows x 4 columns]"
      ]
     },
     "execution_count": 3,
     "metadata": {},
     "output_type": "execute_result"
    }
   ],
   "source": [
    "# tạo các cột theo các phần phối khác nhau\n",
    "df = pd.DataFrame({ \n",
    "    'beta': np.random.beta(5, 1, 1000) * 60,        # beta\n",
    "    'exponential': np.random.exponential(10, 1000), # exponential\n",
    "    'normal_p': np.random.normal(10, 2, 1000),      # normal platykurtic\n",
    "    'normal_l': np.random.normal(10, 10, 1000),     # normal leptokurtic\n",
    "})\n",
    "df"
   ]
  },
  {
   "cell_type": "code",
   "execution_count": 4,
   "id": "ac9dd50c",
   "metadata": {},
   "outputs": [],
   "source": [
    "# thêm dữ liệu được tạo theo phân phối nhị thức\n",
    "first_half = np.random.normal(20, 3, 500) \n",
    "second_half = np.random.normal(-20, 3, 500) \n",
    "bimodal = np.concatenate([first_half, second_half])\n",
    "\n",
    "df['bimodal'] = bimodal"
   ]
  },
  {
   "cell_type": "code",
   "execution_count": 5,
   "id": "e8b37787",
   "metadata": {},
   "outputs": [
    {
     "data": {
      "text/html": [
       "<div>\n",
       "<style scoped>\n",
       "    .dataframe tbody tr th:only-of-type {\n",
       "        vertical-align: middle;\n",
       "    }\n",
       "\n",
       "    .dataframe tbody tr th {\n",
       "        vertical-align: top;\n",
       "    }\n",
       "\n",
       "    .dataframe thead th {\n",
       "        text-align: right;\n",
       "    }\n",
       "</style>\n",
       "<table border=\"1\" class=\"dataframe\">\n",
       "  <thead>\n",
       "    <tr style=\"text-align: right;\">\n",
       "      <th></th>\n",
       "      <th>beta</th>\n",
       "      <th>exponential</th>\n",
       "      <th>normal_p</th>\n",
       "      <th>normal_l</th>\n",
       "      <th>bimodal</th>\n",
       "    </tr>\n",
       "  </thead>\n",
       "  <tbody>\n",
       "    <tr>\n",
       "      <th>0</th>\n",
       "      <td>55.976682</td>\n",
       "      <td>15.264253</td>\n",
       "      <td>8.738476</td>\n",
       "      <td>13.484907</td>\n",
       "      <td>19.940919</td>\n",
       "    </tr>\n",
       "    <tr>\n",
       "      <th>1</th>\n",
       "      <td>51.707807</td>\n",
       "      <td>2.160549</td>\n",
       "      <td>9.111653</td>\n",
       "      <td>10.446849</td>\n",
       "      <td>18.605112</td>\n",
       "    </tr>\n",
       "    <tr>\n",
       "      <th>2</th>\n",
       "      <td>57.449843</td>\n",
       "      <td>16.393445</td>\n",
       "      <td>12.543135</td>\n",
       "      <td>-6.684506</td>\n",
       "      <td>26.695884</td>\n",
       "    </tr>\n",
       "    <tr>\n",
       "      <th>3</th>\n",
       "      <td>42.341310</td>\n",
       "      <td>6.192697</td>\n",
       "      <td>10.518667</td>\n",
       "      <td>33.118086</td>\n",
       "      <td>21.361251</td>\n",
       "    </tr>\n",
       "    <tr>\n",
       "      <th>4</th>\n",
       "      <td>35.350635</td>\n",
       "      <td>0.678486</td>\n",
       "      <td>10.325614</td>\n",
       "      <td>1.861609</td>\n",
       "      <td>18.710124</td>\n",
       "    </tr>\n",
       "  </tbody>\n",
       "</table>\n",
       "</div>"
      ],
      "text/plain": [
       "        beta  exponential   normal_p   normal_l    bimodal\n",
       "0  55.976682    15.264253   8.738476  13.484907  19.940919\n",
       "1  51.707807     2.160549   9.111653  10.446849  18.605112\n",
       "2  57.449843    16.393445  12.543135  -6.684506  26.695884\n",
       "3  42.341310     6.192697  10.518667  33.118086  21.361251\n",
       "4  35.350635     0.678486  10.325614   1.861609  18.710124"
      ]
     },
     "execution_count": 5,
     "metadata": {},
     "output_type": "execute_result"
    }
   ],
   "source": [
    "# hiển thị dữ liệu\n",
    "df.head()"
   ]
  },
  {
   "cell_type": "code",
   "execution_count": 6,
   "id": "6ae6ff4d",
   "metadata": {},
   "outputs": [
    {
     "data": {
      "text/plain": [
       "<AxesSubplot:ylabel='Density'>"
      ]
     },
     "execution_count": 6,
     "metadata": {},
     "output_type": "execute_result"
    },
    {
     "data": {
      "image/png": "[encoded data removed]",
      "text/plain": [
       "<Figure size 432x288 with 1 Axes>"
      ]
     },
     "metadata": {
      "needs_background": "light"
     },
     "output_type": "display_data"
    }
   ],
   "source": [
    "#Trực quan hóa dữ liệu sinh ra\n",
    "sns.kdeplot(data=df)\n"
   ]
  },
  {
   "cell_type": "code",
   "execution_count": 7,
   "id": "14e46f90",
   "metadata": {},
   "outputs": [
    {
     "data": {
      "text/html": [
       "<div>\n",
       "<style scoped>\n",
       "    .dataframe tbody tr th:only-of-type {\n",
       "        vertical-align: middle;\n",
       "    }\n",
       "\n",
       "    .dataframe tbody tr th {\n",
       "        vertical-align: top;\n",
       "    }\n",
       "\n",
       "    .dataframe thead th {\n",
       "        text-align: right;\n",
       "    }\n",
       "</style>\n",
       "<table border=\"1\" class=\"dataframe\">\n",
       "  <thead>\n",
       "    <tr style=\"text-align: right;\">\n",
       "      <th></th>\n",
       "      <th>beta</th>\n",
       "      <th>exponential</th>\n",
       "      <th>normal_p</th>\n",
       "      <th>normal_l</th>\n",
       "      <th>bimodal</th>\n",
       "    </tr>\n",
       "  </thead>\n",
       "  <tbody>\n",
       "    <tr>\n",
       "      <th>count</th>\n",
       "      <td>1000.000000</td>\n",
       "      <td>1000.000000</td>\n",
       "      <td>1000.000000</td>\n",
       "      <td>1000.000000</td>\n",
       "      <td>1000.000000</td>\n",
       "    </tr>\n",
       "    <tr>\n",
       "      <th>mean</th>\n",
       "      <td>50.641581</td>\n",
       "      <td>10.184177</td>\n",
       "      <td>9.972003</td>\n",
       "      <td>9.359031</td>\n",
       "      <td>-0.038586</td>\n",
       "    </tr>\n",
       "    <tr>\n",
       "      <th>std</th>\n",
       "      <td>7.626142</td>\n",
       "      <td>10.666754</td>\n",
       "      <td>2.021678</td>\n",
       "      <td>9.630122</td>\n",
       "      <td>20.123323</td>\n",
       "    </tr>\n",
       "    <tr>\n",
       "      <th>min</th>\n",
       "      <td>13.944217</td>\n",
       "      <td>0.000508</td>\n",
       "      <td>3.458829</td>\n",
       "      <td>-19.621766</td>\n",
       "      <td>-28.001660</td>\n",
       "    </tr>\n",
       "    <tr>\n",
       "      <th>25%</th>\n",
       "      <td>46.681847</td>\n",
       "      <td>2.684349</td>\n",
       "      <td>8.593639</td>\n",
       "      <td>3.068183</td>\n",
       "      <td>-19.822337</td>\n",
       "    </tr>\n",
       "    <tr>\n",
       "      <th>50%</th>\n",
       "      <td>52.276690</td>\n",
       "      <td>6.790859</td>\n",
       "      <td>9.967522</td>\n",
       "      <td>9.044544</td>\n",
       "      <td>-1.296858</td>\n",
       "    </tr>\n",
       "    <tr>\n",
       "      <th>75%</th>\n",
       "      <td>56.590822</td>\n",
       "      <td>13.713663</td>\n",
       "      <td>11.269213</td>\n",
       "      <td>15.733950</td>\n",
       "      <td>20.015423</td>\n",
       "    </tr>\n",
       "    <tr>\n",
       "      <th>max</th>\n",
       "      <td>59.981635</td>\n",
       "      <td>71.702537</td>\n",
       "      <td>16.590424</td>\n",
       "      <td>38.067226</td>\n",
       "      <td>29.193354</td>\n",
       "    </tr>\n",
       "  </tbody>\n",
       "</table>\n",
       "</div>"
      ],
      "text/plain": [
       "              beta  exponential     normal_p     normal_l      bimodal\n",
       "count  1000.000000  1000.000000  1000.000000  1000.000000  1000.000000\n",
       "mean     50.641581    10.184177     9.972003     9.359031    -0.038586\n",
       "std       7.626142    10.666754     2.021678     9.630122    20.123323\n",
       "min      13.944217     0.000508     3.458829   -19.621766   -28.001660\n",
       "25%      46.681847     2.684349     8.593639     3.068183   -19.822337\n",
       "50%      52.276690     6.790859     9.967522     9.044544    -1.296858\n",
       "75%      56.590822    13.713663    11.269213    15.733950    20.015423\n",
       "max      59.981635    71.702537    16.590424    38.067226    29.193354"
      ]
     },
     "execution_count": 7,
     "metadata": {},
     "output_type": "execute_result"
    }
   ],
   "source": [
    "#Hiển thị thống kê về dữ liệu sinh ra\n",
    "df.describe()"
   ]
  },
  {
   "cell_type": "code",
   "execution_count": 8,
   "id": "c5d2f5a3",
   "metadata": {},
   "outputs": [
    {
     "data": {
      "text/plain": [
       "<AxesSubplot:ylabel='Density'>"
      ]
     },
     "execution_count": 8,
     "metadata": {},
     "output_type": "execute_result"
    },
    {
     "data": {
      "image/png": "[encoded data removed]",
      "text/plain": [
       "<Figure size 432x288 with 1 Axes>"
      ]
     },
     "metadata": {
      "needs_background": "light"
     },
     "output_type": "display_data"
    }
   ],
   "source": [
    "#Thêm một đặc trưng với giá trị lớn hơn nhiều\n",
    "normal_big = np.random.normal(1000000, 10000, (1000,1))  # normal distribution of large values\n",
    "df['normal_big'] = normal_big\n",
    "sns.kdeplot(data=df)"
   ]
  },
  {
   "cell_type": "code",
   "execution_count": 9,
   "id": "0d1d3a3d",
   "metadata": {},
   "outputs": [
    {
     "data": {
      "text/plain": [
       "<AxesSubplot:>"
      ]
     },
     "execution_count": 9,
     "metadata": {},
     "output_type": "execute_result"
    },
    {
     "data": {
      "image/png": "[encoded data removed]",
      "text/plain": [
       "<Figure size 432x288 with 1 Axes>"
      ]
     },
     "metadata": {
      "needs_background": "light"
     },
     "output_type": "display_data"
    }
   ],
   "source": [
    "# trực quan hóa bằng biểu đồ box plot\n",
    "df.boxplot()"
   ]
  },
  {
   "cell_type": "code",
   "execution_count": 10,
   "id": "36c3e6a6",
   "metadata": {},
   "outputs": [],
   "source": [
    "#Chuẩn hóa với StandardScaler (Z-Score scaling)\n",
    "# Khai báo đối tượng StandardScaler\n",
    "s_scaler = StandardScaler()"
   ]
  },
  {
   "cell_type": "code",
   "execution_count": 11,
   "id": "b35f8e7a",
   "metadata": {},
   "outputs": [],
   "source": [
    "# Chuẩn hóa dữ liệu trong df với StandardScaler\n",
    "df_s = s_scaler.fit_transform(df)\n",
    "\n",
    "# lấy danh sáchc cột\n",
    "col_names = list(df.columns)\n",
    "\n",
    "# chuyển về DataFrame, gán các cột của df cho dữ liệu đã được chuẩn hóa\n",
    "df_s = pd.DataFrame(df_s, columns=col_names)"
   ]
  },
  {
   "cell_type": "code",
   "execution_count": 12,
   "id": "1e844dab",
   "metadata": {},
   "outputs": [
    {
     "data": {
      "text/html": [
       "<div>\n",
       "<style scoped>\n",
       "    .dataframe tbody tr th:only-of-type {\n",
       "        vertical-align: middle;\n",
       "    }\n",
       "\n",
       "    .dataframe tbody tr th {\n",
       "        vertical-align: top;\n",
       "    }\n",
       "\n",
       "    .dataframe thead th {\n",
       "        text-align: right;\n",
       "    }\n",
       "</style>\n",
       "<table border=\"1\" class=\"dataframe\">\n",
       "  <thead>\n",
       "    <tr style=\"text-align: right;\">\n",
       "      <th></th>\n",
       "      <th>beta</th>\n",
       "      <th>exponential</th>\n",
       "      <th>normal_p</th>\n",
       "      <th>normal_l</th>\n",
       "      <th>bimodal</th>\n",
       "      <th>normal_big</th>\n",
       "    </tr>\n",
       "  </thead>\n",
       "  <tbody>\n",
       "    <tr>\n",
       "      <th>0</th>\n",
       "      <td>0.699931</td>\n",
       "      <td>0.476491</td>\n",
       "      <td>-0.610455</td>\n",
       "      <td>0.428649</td>\n",
       "      <td>0.993350</td>\n",
       "      <td>-1.344337</td>\n",
       "    </tr>\n",
       "    <tr>\n",
       "      <th>1</th>\n",
       "      <td>0.139882</td>\n",
       "      <td>-0.752585</td>\n",
       "      <td>-0.425775</td>\n",
       "      <td>0.113016</td>\n",
       "      <td>0.926936</td>\n",
       "      <td>0.588261</td>\n",
       "    </tr>\n",
       "    <tr>\n",
       "      <th>2</th>\n",
       "      <td>0.893200</td>\n",
       "      <td>0.582405</td>\n",
       "      <td>1.272417</td>\n",
       "      <td>-1.666808</td>\n",
       "      <td>1.329196</td>\n",
       "      <td>0.714960</td>\n",
       "    </tr>\n",
       "    <tr>\n",
       "      <th>3</th>\n",
       "      <td>-1.088942</td>\n",
       "      <td>-0.374385</td>\n",
       "      <td>0.270536</td>\n",
       "      <td>2.468395</td>\n",
       "      <td>1.063967</td>\n",
       "      <td>-0.787366</td>\n",
       "    </tr>\n",
       "    <tr>\n",
       "      <th>4</th>\n",
       "      <td>-2.006073</td>\n",
       "      <td>-0.891597</td>\n",
       "      <td>0.174997</td>\n",
       "      <td>-0.778928</td>\n",
       "      <td>0.932157</td>\n",
       "      <td>0.802779</td>\n",
       "    </tr>\n",
       "  </tbody>\n",
       "</table>\n",
       "</div>"
      ],
      "text/plain": [
       "       beta  exponential  normal_p  normal_l   bimodal  normal_big\n",
       "0  0.699931     0.476491 -0.610455  0.428649  0.993350   -1.344337\n",
       "1  0.139882    -0.752585 -0.425775  0.113016  0.926936    0.588261\n",
       "2  0.893200     0.582405  1.272417 -1.666808  1.329196    0.714960\n",
       "3 -1.088942    -0.374385  0.270536  2.468395  1.063967   -0.787366\n",
       "4 -2.006073    -0.891597  0.174997 -0.778928  0.932157    0.802779"
      ]
     },
     "execution_count": 12,
     "metadata": {},
     "output_type": "execute_result"
    }
   ],
   "source": [
    "df_s.head()"
   ]
  },
  {
   "cell_type": "code",
   "execution_count": 13,
   "id": "0450471e",
   "metadata": {},
   "outputs": [
    {
     "data": {
      "text/plain": [
       "<AxesSubplot:ylabel='Density'>"
      ]
     },
     "execution_count": 13,
     "metadata": {},
     "output_type": "execute_result"
    },
    {
     "data": {
      "image/png": "[encoded data removed]",
      "text/plain": [
       "<Figure size 432x288 with 1 Axes>"
      ]
     },
     "metadata": {
      "needs_background": "light"
     },
     "output_type": "display_data"
    }
   ],
   "source": [
    "# biểu diễn dữ liệu đã được chuẩn hóa\n",
    "sns.kdeplot(data=df_s)"
   ]
  },
  {
   "cell_type": "code",
   "execution_count": null,
   "id": "9a4dcd45",
   "metadata": {},
   "outputs": [],
   "source": []
  }
 ],
 "metadata": {
  "kernelspec": {
   "display_name": "Python 3 (ipykernel)",
   "language": "python",
   "name": "python3"
  },
  "language_info": {
   "codemirror_mode": {
    "name": "ipython",
    "version": 3
   },
   "file_extension": ".py",
   "mimetype": "text/x-python",
   "name": "python",
   "nbconvert_exporter": "python",
   "pygments_lexer": "ipython3",
   "version": "3.9.7"
  }
 },
 "nbformat": 4,
 "nbformat_minor": 5
}
