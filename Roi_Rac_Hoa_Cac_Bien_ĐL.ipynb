{
 "cells": [
  {
   "cell_type": "code",
   "execution_count": 1,
   "id": "664bdabd",
   "metadata": {},
   "outputs": [],
   "source": [
    "import pandas as pd\n",
    "import numpy as np"
   ]
  },
  {
   "cell_type": "code",
   "execution_count": 2,
   "id": "93f3d0e8",
   "metadata": {},
   "outputs": [],
   "source": [
    "#Giả sử ta có dữ liệu về một nhóm người trong một nghiên cứu\n",
    "#và muốn nhóm họ thành các nhóm tuổi riêng biệt"
   ]
  },
  {
   "cell_type": "code",
   "execution_count": 3,
   "id": "e72971b3",
   "metadata": {},
   "outputs": [],
   "source": [
    "ages = [20, 22, 25, 27, 21, 23, 37, 31, 61, 45, 41, 32]"
   ]
  },
  {
   "cell_type": "code",
   "execution_count": 4,
   "id": "553adb6e",
   "metadata": {},
   "outputs": [],
   "source": [
    "#Hãy chia chúng thành các nhóm từ 18 đến 25, 26 đến 35, \n",
    "#36 đến 60 và cuối cùng là 61 trở lên. Để làm như vậy, \n",
    "#chúng ta phải sử dụng cut trong pandas\n",
    "\n",
    "# định nghĩa khoảng giá trị các nhóm\n",
    "bins = [18, 25, 35, 60, 100]"
   ]
  },
  {
   "cell_type": "code",
   "execution_count": 6,
   "id": "34bf3c6d",
   "metadata": {},
   "outputs": [
    {
     "data": {
      "text/plain": [
       "[(18, 25], (18, 25], (18, 25], (25, 35], (18, 25], ..., (25, 35], (60, 100], (35, 60], (35, 60], (25, 35]]\n",
       "Length: 12\n",
       "Categories (4, interval[int64, right]): [(18, 25] < (25, 35] < (35, 60] < (60, 100]]"
      ]
     },
     "execution_count": 6,
     "metadata": {},
     "output_type": "execute_result"
    }
   ],
   "source": [
    "# thực hiện rời rạc hóa\n",
    "cats = pd.cut(ages, bins)\n",
    "cats"
   ]
  },
  {
   "cell_type": "code",
   "execution_count": 7,
   "id": "be8e7653",
   "metadata": {},
   "outputs": [
    {
     "data": {
      "text/plain": [
       "array([0, 0, 0, 1, 0, 0, 2, 1, 3, 2, 2, 1], dtype=int8)"
      ]
     },
     "execution_count": 7,
     "metadata": {},
     "output_type": "execute_result"
    }
   ],
   "source": [
    "# lấy ra index của nhóm tương ứng với các phần tử\n",
    "cats.codes\n"
   ]
  },
  {
   "cell_type": "code",
   "execution_count": 8,
   "id": "55a790b4",
   "metadata": {},
   "outputs": [
    {
     "data": {
      "text/plain": [
       "IntervalIndex([(18, 25], (25, 35], (35, 60], (60, 100]], dtype='interval[int64, right]')"
      ]
     },
     "execution_count": 8,
     "metadata": {},
     "output_type": "execute_result"
    }
   ],
   "source": [
    "# lấy ra các nhóm\n",
    "cats.categories"
   ]
  },
  {
   "cell_type": "code",
   "execution_count": 9,
   "id": "aea532ee",
   "metadata": {},
   "outputs": [
    {
     "data": {
      "text/plain": [
       "(18, 25]     5\n",
       "(25, 35]     3\n",
       "(35, 60]     3\n",
       "(60, 100]    1\n",
       "dtype: int64"
      ]
     },
     "execution_count": 9,
     "metadata": {},
     "output_type": "execute_result"
    }
   ],
   "source": [
    "# thống kê số lượng phần tử ở mỗi nhóm\n",
    "pd.value_counts(cats)"
   ]
  },
  {
   "cell_type": "code",
   "execution_count": 11,
   "id": "8e93823c",
   "metadata": {},
   "outputs": [
    {
     "data": {
      "text/plain": [
       "[[18, 26), [18, 26), [18, 26), [26, 36), [18, 26), ..., [26, 36), [61, 100), [36, 61), [36, 61), [26, 36)]\n",
       "Length: 12\n",
       "Categories (4, interval[int64, left]): [[18, 26) < [26, 36) < [36, 61) < [61, 100)]"
      ]
     },
     "execution_count": 11,
     "metadata": {},
     "output_type": "execute_result"
    }
   ],
   "source": [
    "#ĐỒng nhất với ký hiệu toán học cho các khoảng, \n",
    "#dấu ngoặc đơn có nghĩa là cạnh đó mở, trong khi dấu ngoặc vuông có nghĩa là cạnh đó bị đóng (bao gồm). \n",
    "#Chúng ta có thể thay đổi phía bị đóng bằng cách truyền vào tham số right = False:\n",
    "\n",
    "pd.cut(ages, [18, 26, 36, 61, 100], right=False)"
   ]
  },
  {
   "cell_type": "code",
   "execution_count": 12,
   "id": "78130b92",
   "metadata": {},
   "outputs": [
    {
     "data": {
      "text/plain": [
       "['Youth', 'Youth', 'Youth', 'YoungAdult', 'Youth', ..., 'YoungAdult', 'Senior', 'MiddleAged', 'MiddleAged', 'YoungAdult']\n",
       "Length: 12\n",
       "Categories (4, object): ['Youth' < 'YoungAdult' < 'MiddleAged' < 'Senior']"
      ]
     },
     "execution_count": 12,
     "metadata": {},
     "output_type": "execute_result"
    }
   ],
   "source": [
    "#Chúng ta cũng có thể chuyển các tên nhóm của riêng mình bằng cách truyền vào một danh sách các nhãn:\n",
    "\n",
    "# danh sách nhãn\n",
    "group_names = ['Youth', 'YoungAdult', 'MiddleAged', 'Senior']\n",
    "\n",
    "pd.cut(ages, bins, labels=group_names)"
   ]
  },
  {
   "cell_type": "code",
   "execution_count": 13,
   "id": "54320e0d",
   "metadata": {},
   "outputs": [],
   "source": [
    "# sinh dữ liệu ngẫu nhiên gồm 20 phần tử\n",
    "data = np.random.rand(20)"
   ]
  },
  {
   "cell_type": "code",
   "execution_count": 14,
   "id": "824bc753",
   "metadata": {},
   "outputs": [
    {
     "data": {
      "text/plain": [
       "[(0.75, 0.98], (0.75, 0.98], (0.52, 0.75], (0.52, 0.75], (0.75, 0.98], ..., (0.28, 0.52], (0.048, 0.28], (0.52, 0.75], (0.52, 0.75], (0.28, 0.52]]\n",
       "Length: 20\n",
       "Categories (4, interval[float64, right]): [(0.048, 0.28] < (0.28, 0.52] < (0.52, 0.75] < (0.75, 0.98]]"
      ]
     },
     "execution_count": 14,
     "metadata": {},
     "output_type": "execute_result"
    }
   ],
   "source": [
    "#Tùy chọn precision = 2 sẽ giới hạn độ chính xác thập phân ở hai chữ số.\n",
    "\n",
    "cut_data = pd.cut(data, 4, precision=2)\n",
    "cut_data"
   ]
  },
  {
   "cell_type": "code",
   "execution_count": 15,
   "id": "93243c5a",
   "metadata": {},
   "outputs": [
    {
     "data": {
      "text/plain": [
       "(0.52, 0.75]     7\n",
       "(0.75, 0.98]     6\n",
       "(0.28, 0.52]     4\n",
       "(0.048, 0.28]    3\n",
       "dtype: int64"
      ]
     },
     "execution_count": 15,
     "metadata": {},
     "output_type": "execute_result"
    }
   ],
   "source": [
    "pd.value_counts(cut_data)"
   ]
  },
  {
   "cell_type": "code",
   "execution_count": 17,
   "id": "e9e8ee43",
   "metadata": {},
   "outputs": [],
   "source": [
    "# sinh ngẫu nhiễn 1000 điểm dữ liệu\n",
    "data = np.random.randn(1000)"
   ]
  },
  {
   "cell_type": "code",
   "execution_count": 18,
   "id": "c5afed02",
   "metadata": {},
   "outputs": [
    {
     "data": {
      "text/plain": [
       "[(-2.533, -0.67], (0.0271, 0.684], (0.0271, 0.684], (0.0271, 0.684], (-2.533, -0.67], ..., (0.684, 3.098], (-2.533, -0.67], (0.0271, 0.684], (-0.67, 0.0271], (0.684, 3.098]]\n",
       "Length: 1000\n",
       "Categories (4, interval[float64, right]): [(-2.533, -0.67] < (-0.67, 0.0271] < (0.0271, 0.684] < (0.684, 3.098]]"
      ]
     },
     "execution_count": 18,
     "metadata": {},
     "output_type": "execute_result"
    }
   ],
   "source": [
    "#việc sử dụng cut thường không dẫn đến việc mỗi nhóm có cùng số lượng dữ liệu. \n",
    "#Vì qcut sử dụng các lượng tử mẫu thay thế, nên chúng sẽ nhận được các nhóm có kích thước gần bằng nhau\n",
    "\n",
    "# thực hiện hàm qcut trên dữ liệu vừa sinh ra\n",
    "cats = pd.qcut(data, 4)\n",
    "cats"
   ]
  },
  {
   "cell_type": "code",
   "execution_count": 19,
   "id": "fc10ff0e",
   "metadata": {},
   "outputs": [
    {
     "data": {
      "text/plain": [
       "(-2.533, -0.67]    250\n",
       "(-0.67, 0.0271]    250\n",
       "(0.0271, 0.684]    250\n",
       "(0.684, 3.098]     250\n",
       "dtype: int64"
      ]
     },
     "execution_count": 19,
     "metadata": {},
     "output_type": "execute_result"
    }
   ],
   "source": [
    "#thống kê số lượng phần tử\n",
    "pd.value_counts(cats)"
   ]
  },
  {
   "cell_type": "code",
   "execution_count": 20,
   "id": "edb2b18d",
   "metadata": {},
   "outputs": [
    {
     "data": {
      "text/plain": [
       "[(-1.285, 0.0271], (0.0271, 1.263], (0.0271, 1.263], (0.0271, 1.263], (-1.285, 0.0271], ..., (0.0271, 1.263], (-1.285, 0.0271], (0.0271, 1.263], (-1.285, 0.0271], (0.0271, 1.263]]\n",
       "Length: 1000\n",
       "Categories (4, interval[float64, right]): [(-2.533, -1.285] < (-1.285, 0.0271] < (0.0271, 1.263] < (1.263, 3.098]]"
      ]
     },
     "execution_count": 20,
     "metadata": {},
     "output_type": "execute_result"
    }
   ],
   "source": [
    "#chuyển các lượng tử (các số từ 0 đến 1):\n",
    "pd.qcut(data, [0, 0.1, 0.5, 0.9, 1.])"
   ]
  },
  {
   "cell_type": "code",
   "execution_count": null,
   "id": "ad3ad68f",
   "metadata": {},
   "outputs": [],
   "source": []
  }
 ],
 "metadata": {
  "kernelspec": {
   "display_name": "Python 3 (ipykernel)",
   "language": "python",
   "name": "python3"
  },
  "language_info": {
   "codemirror_mode": {
    "name": "ipython",
    "version": 3
   },
   "file_extension": ".py",
   "mimetype": "text/x-python",
   "name": "python",
   "nbconvert_exporter": "python",
   "pygments_lexer": "ipython3",
   "version": "3.9.7"
  }
 },
 "nbformat": 4,
 "nbformat_minor": 5
}
