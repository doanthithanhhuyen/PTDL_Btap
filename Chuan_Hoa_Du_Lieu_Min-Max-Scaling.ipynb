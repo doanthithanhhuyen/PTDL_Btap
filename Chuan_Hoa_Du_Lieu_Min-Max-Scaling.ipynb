{
 "cells": [
  {
   "cell_type": "code",
   "execution_count": 1,
   "id": "41e80834",
   "metadata": {},
   "outputs": [],
   "source": [
    "import pandas as pd\n",
    "import numpy as np\n",
    "import matplotlib.pyplot as plt\n",
    "import seaborn as sns\n",
    "from sklearn.preprocessing import MinMaxScaler\n"
   ]
  },
  {
   "cell_type": "code",
   "execution_count": 2,
   "id": "cda3cf3c",
   "metadata": {},
   "outputs": [],
   "source": [
    "# tạo các cột theo các phần phối khác nhau\n",
    "df = pd.DataFrame({ \n",
    "    'beta': np.random.beta(5, 1, 1000) * 60,        # beta\n",
    "    'exponential': np.random.exponential(10, 1000), # exponential\n",
    "    'normal_p': np.random.normal(10, 2, 1000),      # normal platykurtic\n",
    "    'normal_l': np.random.normal(10, 10, 1000),     # normal leptokurtic\n",
    "})"
   ]
  },
  {
   "cell_type": "code",
   "execution_count": 3,
   "id": "45a65a89",
   "metadata": {},
   "outputs": [],
   "source": [
    "# thêm dữ liệu được tạo theo phân phối nhị thức\n",
    "first_half = np.random.normal(20, 3, 500) \n",
    "second_half = np.random.normal(-20, 3, 500) \n",
    "bimodal = np.concatenate([first_half, second_half])\n",
    "\n",
    "df['bimodal'] = bimodal"
   ]
  },
  {
   "cell_type": "code",
   "execution_count": 4,
   "id": "7e2f5306",
   "metadata": {},
   "outputs": [
    {
     "data": {
      "text/html": [
       "<div>\n",
       "<style scoped>\n",
       "    .dataframe tbody tr th:only-of-type {\n",
       "        vertical-align: middle;\n",
       "    }\n",
       "\n",
       "    .dataframe tbody tr th {\n",
       "        vertical-align: top;\n",
       "    }\n",
       "\n",
       "    .dataframe thead th {\n",
       "        text-align: right;\n",
       "    }\n",
       "</style>\n",
       "<table border=\"1\" class=\"dataframe\">\n",
       "  <thead>\n",
       "    <tr style=\"text-align: right;\">\n",
       "      <th></th>\n",
       "      <th>beta</th>\n",
       "      <th>exponential</th>\n",
       "      <th>normal_p</th>\n",
       "      <th>normal_l</th>\n",
       "      <th>bimodal</th>\n",
       "    </tr>\n",
       "  </thead>\n",
       "  <tbody>\n",
       "    <tr>\n",
       "      <th>0</th>\n",
       "      <td>58.990732</td>\n",
       "      <td>3.210209</td>\n",
       "      <td>7.383094</td>\n",
       "      <td>15.010438</td>\n",
       "      <td>18.664628</td>\n",
       "    </tr>\n",
       "    <tr>\n",
       "      <th>1</th>\n",
       "      <td>43.245495</td>\n",
       "      <td>43.323286</td>\n",
       "      <td>3.917430</td>\n",
       "      <td>21.173717</td>\n",
       "      <td>22.175824</td>\n",
       "    </tr>\n",
       "    <tr>\n",
       "      <th>2</th>\n",
       "      <td>56.184663</td>\n",
       "      <td>13.444630</td>\n",
       "      <td>8.369344</td>\n",
       "      <td>11.943046</td>\n",
       "      <td>21.538297</td>\n",
       "    </tr>\n",
       "    <tr>\n",
       "      <th>3</th>\n",
       "      <td>53.149129</td>\n",
       "      <td>27.783016</td>\n",
       "      <td>8.734178</td>\n",
       "      <td>7.342939</td>\n",
       "      <td>24.999453</td>\n",
       "    </tr>\n",
       "    <tr>\n",
       "      <th>4</th>\n",
       "      <td>58.010871</td>\n",
       "      <td>1.273330</td>\n",
       "      <td>7.600568</td>\n",
       "      <td>17.048641</td>\n",
       "      <td>21.863008</td>\n",
       "    </tr>\n",
       "  </tbody>\n",
       "</table>\n",
       "</div>"
      ],
      "text/plain": [
       "        beta  exponential  normal_p   normal_l    bimodal\n",
       "0  58.990732     3.210209  7.383094  15.010438  18.664628\n",
       "1  43.245495    43.323286  3.917430  21.173717  22.175824\n",
       "2  56.184663    13.444630  8.369344  11.943046  21.538297\n",
       "3  53.149129    27.783016  8.734178   7.342939  24.999453\n",
       "4  58.010871     1.273330  7.600568  17.048641  21.863008"
      ]
     },
     "execution_count": 4,
     "metadata": {},
     "output_type": "execute_result"
    }
   ],
   "source": [
    "# hiển thị dữ liệu\n",
    "df.head()"
   ]
  },
  {
   "cell_type": "markdown",
   "id": "cee41d44",
   "metadata": {},
   "source": [
    "Trực quan hóa dữ liệu sinh ra"
   ]
  },
  {
   "cell_type": "code",
   "execution_count": 5,
   "id": "cc5669c9",
   "metadata": {},
   "outputs": [
    {
     "data": {
      "text/plain": [
       "<AxesSubplot:ylabel='Density'>"
      ]
     },
     "execution_count": 5,
     "metadata": {},
     "output_type": "execute_result"
    },
    {
     "data": {
      "image/png": "[encoded data removed]",
      "text/plain": [
       "<Figure size 432x288 with 1 Axes>"
      ]
     },
     "metadata": {
      "needs_background": "light"
     },
     "output_type": "display_data"
    }
   ],
   "source": [
    "sns.kdeplot(data=df)"
   ]
  },
  {
   "cell_type": "code",
   "execution_count": 6,
   "id": "a06f6732",
   "metadata": {},
   "outputs": [
    {
     "data": {
      "text/html": [
       "<div>\n",
       "<style scoped>\n",
       "    .dataframe tbody tr th:only-of-type {\n",
       "        vertical-align: middle;\n",
       "    }\n",
       "\n",
       "    .dataframe tbody tr th {\n",
       "        vertical-align: top;\n",
       "    }\n",
       "\n",
       "    .dataframe thead th {\n",
       "        text-align: right;\n",
       "    }\n",
       "</style>\n",
       "<table border=\"1\" class=\"dataframe\">\n",
       "  <thead>\n",
       "    <tr style=\"text-align: right;\">\n",
       "      <th></th>\n",
       "      <th>beta</th>\n",
       "      <th>exponential</th>\n",
       "      <th>normal_p</th>\n",
       "      <th>normal_l</th>\n",
       "      <th>bimodal</th>\n",
       "    </tr>\n",
       "  </thead>\n",
       "  <tbody>\n",
       "    <tr>\n",
       "      <th>count</th>\n",
       "      <td>1000.000000</td>\n",
       "      <td>1000.000000</td>\n",
       "      <td>1000.000000</td>\n",
       "      <td>1000.000000</td>\n",
       "      <td>1000.000000</td>\n",
       "    </tr>\n",
       "    <tr>\n",
       "      <th>mean</th>\n",
       "      <td>49.949579</td>\n",
       "      <td>9.896871</td>\n",
       "      <td>10.020663</td>\n",
       "      <td>10.145038</td>\n",
       "      <td>-0.103209</td>\n",
       "    </tr>\n",
       "    <tr>\n",
       "      <th>std</th>\n",
       "      <td>8.658877</td>\n",
       "      <td>9.619539</td>\n",
       "      <td>2.032465</td>\n",
       "      <td>9.706989</td>\n",
       "      <td>20.153828</td>\n",
       "    </tr>\n",
       "    <tr>\n",
       "      <th>min</th>\n",
       "      <td>10.684990</td>\n",
       "      <td>0.021893</td>\n",
       "      <td>2.555772</td>\n",
       "      <td>-23.778950</td>\n",
       "      <td>-28.681833</td>\n",
       "    </tr>\n",
       "    <tr>\n",
       "      <th>25%</th>\n",
       "      <td>45.034234</td>\n",
       "      <td>2.966209</td>\n",
       "      <td>8.593728</td>\n",
       "      <td>3.533208</td>\n",
       "      <td>-19.991816</td>\n",
       "    </tr>\n",
       "    <tr>\n",
       "      <th>50%</th>\n",
       "      <td>52.358983</td>\n",
       "      <td>6.842271</td>\n",
       "      <td>10.091111</td>\n",
       "      <td>10.437200</td>\n",
       "      <td>0.062626</td>\n",
       "    </tr>\n",
       "    <tr>\n",
       "      <th>75%</th>\n",
       "      <td>56.813381</td>\n",
       "      <td>13.728411</td>\n",
       "      <td>11.338220</td>\n",
       "      <td>16.734231</td>\n",
       "      <td>19.862512</td>\n",
       "    </tr>\n",
       "    <tr>\n",
       "      <th>max</th>\n",
       "      <td>59.982800</td>\n",
       "      <td>76.774097</td>\n",
       "      <td>17.093069</td>\n",
       "      <td>43.103694</td>\n",
       "      <td>28.403804</td>\n",
       "    </tr>\n",
       "  </tbody>\n",
       "</table>\n",
       "</div>"
      ],
      "text/plain": [
       "              beta  exponential     normal_p     normal_l      bimodal\n",
       "count  1000.000000  1000.000000  1000.000000  1000.000000  1000.000000\n",
       "mean     49.949579     9.896871    10.020663    10.145038    -0.103209\n",
       "std       8.658877     9.619539     2.032465     9.706989    20.153828\n",
       "min      10.684990     0.021893     2.555772   -23.778950   -28.681833\n",
       "25%      45.034234     2.966209     8.593728     3.533208   -19.991816\n",
       "50%      52.358983     6.842271    10.091111    10.437200     0.062626\n",
       "75%      56.813381    13.728411    11.338220    16.734231    19.862512\n",
       "max      59.982800    76.774097    17.093069    43.103694    28.403804"
      ]
     },
     "execution_count": 6,
     "metadata": {},
     "output_type": "execute_result"
    }
   ],
   "source": [
    "df.describe()"
   ]
  },
  {
   "cell_type": "markdown",
   "id": "877e2cd7",
   "metadata": {},
   "source": [
    "Thêm một đặc trưng với giá trị lớn hơn nhiều"
   ]
  },
  {
   "cell_type": "code",
   "execution_count": 7,
   "id": "76beb95b",
   "metadata": {},
   "outputs": [
    {
     "data": {
      "text/plain": [
       "<AxesSubplot:ylabel='Density'>"
      ]
     },
     "execution_count": 7,
     "metadata": {},
     "output_type": "execute_result"
    },
    {
     "data": {
      "image/png": "[encoded data removed]",
      "text/plain": [
       "<Figure size 432x288 with 1 Axes>"
      ]
     },
     "metadata": {
      "needs_background": "light"
     },
     "output_type": "display_data"
    }
   ],
   "source": [
    "normal_big = np.random.normal(1000000, 10000, (1000,1))  # normal distribution of large values\n",
    "df['normal_big'] = normal_big\n",
    "sns.kdeplot(data=df)"
   ]
  },
  {
   "cell_type": "code",
   "execution_count": 8,
   "id": "63287d7f",
   "metadata": {},
   "outputs": [
    {
     "data": {
      "text/plain": [
       "<AxesSubplot:>"
      ]
     },
     "execution_count": 8,
     "metadata": {},
     "output_type": "execute_result"
    },
    {
     "data": {
      "image/png": "[encoded data removed]",
      "text/plain": [
       "<Figure size 432x288 with 1 Axes>"
      ]
     },
     "metadata": {
      "needs_background": "light"
     },
     "output_type": "display_data"
    }
   ],
   "source": [
    "# trực quan hóa bằng biểu đồ box plot\n",
    "df.boxplot()"
   ]
  },
  {
   "cell_type": "markdown",
   "id": "42309998",
   "metadata": {},
   "source": [
    "# Chuẩn hóa với Min-Max scaling"
   ]
  },
  {
   "cell_type": "code",
   "execution_count": 9,
   "id": "def82b9b",
   "metadata": {},
   "outputs": [],
   "source": [
    "# Khai báo đối tượng MinMaxScaler\n",
    "scaler = MinMaxScaler()"
   ]
  },
  {
   "cell_type": "code",
   "execution_count": 10,
   "id": "dc8bf768",
   "metadata": {},
   "outputs": [],
   "source": [
    "# Chuẩn hóa dữ liệu trong df với StandardScaler\n",
    "df_s = scaler.fit_transform(df)\n"
   ]
  },
  {
   "cell_type": "code",
   "execution_count": 11,
   "id": "8c90c2d2",
   "metadata": {},
   "outputs": [],
   "source": [
    "# lấy danh sáchc cột\n",
    "col_names = list(df.columns)\n"
   ]
  },
  {
   "cell_type": "code",
   "execution_count": 12,
   "id": "9818d96d",
   "metadata": {},
   "outputs": [],
   "source": [
    "# chuyển về DataFrame, gán các cột của df cho dữ liệu đã được chuẩn hóa\n",
    "df_s = pd.DataFrame(df_s, columns=col_names)"
   ]
  },
  {
   "cell_type": "code",
   "execution_count": 13,
   "id": "33166cdc",
   "metadata": {},
   "outputs": [
    {
     "data": {
      "text/html": [
       "<div>\n",
       "<style scoped>\n",
       "    .dataframe tbody tr th:only-of-type {\n",
       "        vertical-align: middle;\n",
       "    }\n",
       "\n",
       "    .dataframe tbody tr th {\n",
       "        vertical-align: top;\n",
       "    }\n",
       "\n",
       "    .dataframe thead th {\n",
       "        text-align: right;\n",
       "    }\n",
       "</style>\n",
       "<table border=\"1\" class=\"dataframe\">\n",
       "  <thead>\n",
       "    <tr style=\"text-align: right;\">\n",
       "      <th></th>\n",
       "      <th>beta</th>\n",
       "      <th>exponential</th>\n",
       "      <th>normal_p</th>\n",
       "      <th>normal_l</th>\n",
       "      <th>bimodal</th>\n",
       "      <th>normal_big</th>\n",
       "    </tr>\n",
       "  </thead>\n",
       "  <tbody>\n",
       "    <tr>\n",
       "      <th>0</th>\n",
       "      <td>0.979876</td>\n",
       "      <td>0.041540</td>\n",
       "      <td>0.332065</td>\n",
       "      <td>0.579962</td>\n",
       "      <td>0.829394</td>\n",
       "      <td>0.512832</td>\n",
       "    </tr>\n",
       "    <tr>\n",
       "      <th>1</th>\n",
       "      <td>0.660486</td>\n",
       "      <td>0.564171</td>\n",
       "      <td>0.093667</td>\n",
       "      <td>0.672113</td>\n",
       "      <td>0.890901</td>\n",
       "      <td>0.638271</td>\n",
       "    </tr>\n",
       "    <tr>\n",
       "      <th>2</th>\n",
       "      <td>0.922955</td>\n",
       "      <td>0.174884</td>\n",
       "      <td>0.399907</td>\n",
       "      <td>0.534100</td>\n",
       "      <td>0.879733</td>\n",
       "      <td>0.347882</td>\n",
       "    </tr>\n",
       "    <tr>\n",
       "      <th>3</th>\n",
       "      <td>0.861380</td>\n",
       "      <td>0.361698</td>\n",
       "      <td>0.425004</td>\n",
       "      <td>0.465321</td>\n",
       "      <td>0.940364</td>\n",
       "      <td>0.661183</td>\n",
       "    </tr>\n",
       "    <tr>\n",
       "      <th>4</th>\n",
       "      <td>0.960000</td>\n",
       "      <td>0.016305</td>\n",
       "      <td>0.347024</td>\n",
       "      <td>0.610436</td>\n",
       "      <td>0.885421</td>\n",
       "      <td>0.441520</td>\n",
       "    </tr>\n",
       "  </tbody>\n",
       "</table>\n",
       "</div>"
      ],
      "text/plain": [
       "       beta  exponential  normal_p  normal_l   bimodal  normal_big\n",
       "0  0.979876     0.041540  0.332065  0.579962  0.829394    0.512832\n",
       "1  0.660486     0.564171  0.093667  0.672113  0.890901    0.638271\n",
       "2  0.922955     0.174884  0.399907  0.534100  0.879733    0.347882\n",
       "3  0.861380     0.361698  0.425004  0.465321  0.940364    0.661183\n",
       "4  0.960000     0.016305  0.347024  0.610436  0.885421    0.441520"
      ]
     },
     "execution_count": 13,
     "metadata": {},
     "output_type": "execute_result"
    }
   ],
   "source": [
    "df_s.head()"
   ]
  },
  {
   "cell_type": "code",
   "execution_count": 14,
   "id": "e6728da7",
   "metadata": {},
   "outputs": [
    {
     "data": {
      "text/plain": [
       "<AxesSubplot:ylabel='Density'>"
      ]
     },
     "execution_count": 14,
     "metadata": {},
     "output_type": "execute_result"
    },
    {
     "data": {
      "image/png": "[encoded data removed]",
      "text/plain": [
       "<Figure size 432x288 with 1 Axes>"
      ]
     },
     "metadata": {
      "needs_background": "light"
     },
     "output_type": "display_data"
    }
   ],
   "source": [
    "# biểu diễn dữ liệu đã được chuẩn hóa\n",
    "sns.kdeplot(data=df_s)"
   ]
  },
  {
   "cell_type": "code",
   "execution_count": 15,
   "id": "da336d53",
   "metadata": {},
   "outputs": [
    {
     "data": {
      "text/plain": [
       "<AxesSubplot:>"
      ]
     },
     "execution_count": 15,
     "metadata": {},
     "output_type": "execute_result"
    },
    {
     "data": {
      "image/png": "[encoded data removed]",
      "text/plain": [
       "<Figure size 432x288 with 1 Axes>"
      ]
     },
     "metadata": {
      "needs_background": "light"
     },
     "output_type": "display_data"
    }
   ],
   "source": [
    "# trực quan hóa bằng biểu đồ box plot\n",
    "df_s.boxplot()"
   ]
  },
  {
   "cell_type": "code",
   "execution_count": 16,
   "id": "00dc0636",
   "metadata": {},
   "outputs": [
    {
     "data": {
      "text/html": [
       "<div>\n",
       "<style scoped>\n",
       "    .dataframe tbody tr th:only-of-type {\n",
       "        vertical-align: middle;\n",
       "    }\n",
       "\n",
       "    .dataframe tbody tr th {\n",
       "        vertical-align: top;\n",
       "    }\n",
       "\n",
       "    .dataframe thead th {\n",
       "        text-align: right;\n",
       "    }\n",
       "</style>\n",
       "<table border=\"1\" class=\"dataframe\">\n",
       "  <thead>\n",
       "    <tr style=\"text-align: right;\">\n",
       "      <th></th>\n",
       "      <th>beta</th>\n",
       "      <th>exponential</th>\n",
       "      <th>normal_p</th>\n",
       "      <th>normal_l</th>\n",
       "      <th>bimodal</th>\n",
       "      <th>normal_big</th>\n",
       "    </tr>\n",
       "  </thead>\n",
       "  <tbody>\n",
       "    <tr>\n",
       "      <th>count</th>\n",
       "      <td>1000.000000</td>\n",
       "      <td>1000.000000</td>\n",
       "      <td>1000.000000</td>\n",
       "      <td>1000.000000</td>\n",
       "      <td>1000.000000</td>\n",
       "      <td>1000.000000</td>\n",
       "    </tr>\n",
       "    <tr>\n",
       "      <th>mean</th>\n",
       "      <td>0.796477</td>\n",
       "      <td>0.128661</td>\n",
       "      <td>0.513499</td>\n",
       "      <td>0.507217</td>\n",
       "      <td>0.500627</td>\n",
       "      <td>0.474665</td>\n",
       "    </tr>\n",
       "    <tr>\n",
       "      <th>std</th>\n",
       "      <td>0.175644</td>\n",
       "      <td>0.125332</td>\n",
       "      <td>0.139810</td>\n",
       "      <td>0.145135</td>\n",
       "      <td>0.353046</td>\n",
       "      <td>0.148324</td>\n",
       "    </tr>\n",
       "    <tr>\n",
       "      <th>min</th>\n",
       "      <td>0.000000</td>\n",
       "      <td>0.000000</td>\n",
       "      <td>0.000000</td>\n",
       "      <td>0.000000</td>\n",
       "      <td>0.000000</td>\n",
       "      <td>0.000000</td>\n",
       "    </tr>\n",
       "    <tr>\n",
       "      <th>25%</th>\n",
       "      <td>0.696770</td>\n",
       "      <td>0.038361</td>\n",
       "      <td>0.415342</td>\n",
       "      <td>0.408359</td>\n",
       "      <td>0.152228</td>\n",
       "      <td>0.384643</td>\n",
       "    </tr>\n",
       "    <tr>\n",
       "      <th>50%</th>\n",
       "      <td>0.845352</td>\n",
       "      <td>0.088862</td>\n",
       "      <td>0.518345</td>\n",
       "      <td>0.511585</td>\n",
       "      <td>0.503532</td>\n",
       "      <td>0.475007</td>\n",
       "    </tr>\n",
       "    <tr>\n",
       "      <th>75%</th>\n",
       "      <td>0.935709</td>\n",
       "      <td>0.178581</td>\n",
       "      <td>0.604132</td>\n",
       "      <td>0.605735</td>\n",
       "      <td>0.850378</td>\n",
       "      <td>0.569609</td>\n",
       "    </tr>\n",
       "    <tr>\n",
       "      <th>max</th>\n",
       "      <td>1.000000</td>\n",
       "      <td>1.000000</td>\n",
       "      <td>1.000000</td>\n",
       "      <td>1.000000</td>\n",
       "      <td>1.000000</td>\n",
       "      <td>1.000000</td>\n",
       "    </tr>\n",
       "  </tbody>\n",
       "</table>\n",
       "</div>"
      ],
      "text/plain": [
       "              beta  exponential     normal_p     normal_l      bimodal  \\\n",
       "count  1000.000000  1000.000000  1000.000000  1000.000000  1000.000000   \n",
       "mean      0.796477     0.128661     0.513499     0.507217     0.500627   \n",
       "std       0.175644     0.125332     0.139810     0.145135     0.353046   \n",
       "min       0.000000     0.000000     0.000000     0.000000     0.000000   \n",
       "25%       0.696770     0.038361     0.415342     0.408359     0.152228   \n",
       "50%       0.845352     0.088862     0.518345     0.511585     0.503532   \n",
       "75%       0.935709     0.178581     0.604132     0.605735     0.850378   \n",
       "max       1.000000     1.000000     1.000000     1.000000     1.000000   \n",
       "\n",
       "        normal_big  \n",
       "count  1000.000000  \n",
       "mean      0.474665  \n",
       "std       0.148324  \n",
       "min       0.000000  \n",
       "25%       0.384643  \n",
       "50%       0.475007  \n",
       "75%       0.569609  \n",
       "max       1.000000  "
      ]
     },
     "execution_count": 16,
     "metadata": {},
     "output_type": "execute_result"
    }
   ],
   "source": [
    "# thống kê về dữ liệu được sinh ra\n",
    "df_s.describe()"
   ]
  },
  {
   "cell_type": "code",
   "execution_count": 17,
   "id": "bbe8601a",
   "metadata": {},
   "outputs": [
    {
     "data": {
      "text/plain": [
       "0.0"
      ]
     },
     "execution_count": 17,
     "metadata": {},
     "output_type": "execute_result"
    }
   ],
   "source": [
    "# lấy giá trị min của cột beta\n",
    "df_s['beta'].min()"
   ]
  },
  {
   "cell_type": "code",
   "execution_count": 18,
   "id": "ec88122f",
   "metadata": {},
   "outputs": [
    {
     "data": {
      "text/plain": [
       "1.0"
      ]
     },
     "execution_count": 18,
     "metadata": {},
     "output_type": "execute_result"
    }
   ],
   "source": [
    "# lấy giá trị max của cột beta\n",
    "df_s['beta'].max()"
   ]
  },
  {
   "cell_type": "code",
   "execution_count": 19,
   "id": "6d59a809",
   "metadata": {},
   "outputs": [
    {
     "data": {
      "text/plain": [
       "[10.684990207350712,\n",
       " 0.021893289964207627,\n",
       " 2.5557722672653735,\n",
       " -23.778950104899018,\n",
       " -28.681833170346337,\n",
       " 967318.6998310533]"
      ]
     },
     "execution_count": 19,
     "metadata": {},
     "output_type": "execute_result"
    }
   ],
   "source": [
    "# in các giá trị min của từng cột trong dữ liệu chưa chuẩn hóa\n",
    "mins = [df[col].min() for col in df.columns]\n",
    "mins"
   ]
  },
  {
   "cell_type": "code",
   "execution_count": 20,
   "id": "1b0c0b29",
   "metadata": {},
   "outputs": [
    {
     "data": {
      "text/plain": [
       "[0.0, 0.0, 0.0, 0.0, 0.0, 0.0]"
      ]
     },
     "execution_count": 20,
     "metadata": {},
     "output_type": "execute_result"
    }
   ],
   "source": [
    "# in các giá trị min của từng cột trong dữ liệu đã chuẩn hóa\n",
    "mins = [df_s[col].min() for col in df_s.columns]\n",
    "mins"
   ]
  },
  {
   "cell_type": "code",
   "execution_count": 21,
   "id": "a0057253",
   "metadata": {},
   "outputs": [
    {
     "data": {
      "text/plain": [
       "[59.98280044091951,\n",
       " 76.77409661007327,\n",
       " 17.093069493207317,\n",
       " 43.10369404141541,\n",
       " 28.40380446230936,\n",
       " 1036242.6757967039]"
      ]
     },
     "execution_count": 21,
     "metadata": {},
     "output_type": "execute_result"
    }
   ],
   "source": [
    "# in các giá trị max của từng cột dữ liệu chưa chuẩn hóa\n",
    "maxs = [df[col].max() for col in df.columns]\n",
    "maxs"
   ]
  },
  {
   "cell_type": "code",
   "execution_count": 22,
   "id": "cb754ad5",
   "metadata": {},
   "outputs": [
    {
     "data": {
      "text/plain": [
       "[1.0, 1.0, 1.0, 1.0, 0.9999999999999999, 1.0]"
      ]
     },
     "execution_count": 22,
     "metadata": {},
     "output_type": "execute_result"
    }
   ],
   "source": [
    "# in các giá trị max của từng cột dữ liệu đã chuẩn hóa\n",
    "maxs = [df_s[col].max() for col in df_s.columns]\n",
    "maxs"
   ]
  },
  {
   "cell_type": "code",
   "execution_count": null,
   "id": "c706fdd2",
   "metadata": {},
   "outputs": [],
   "source": []
  }
 ],
 "metadata": {
  "kernelspec": {
   "display_name": "Python 3 (ipykernel)",
   "language": "python",
   "name": "python3"
  },
  "language_info": {
   "codemirror_mode": {
    "name": "ipython",
    "version": 3
   },
   "file_extension": ".py",
   "mimetype": "text/x-python",
   "name": "python",
   "nbconvert_exporter": "python",
   "pygments_lexer": "ipython3",
   "version": "3.9.7"
  }
 },
 "nbformat": 4,
 "nbformat_minor": 5
}
